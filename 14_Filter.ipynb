{
 "cells": [
  {
   "cell_type": "markdown",
   "metadata": {},
   "source": [
    "# Filtering a signal\n",
    "\n",
    "In this notebook we are going to look at how to  implement a filter in order to \n",
    "filter an incoming signal.\n",
    "The signal is going to be a sampled version of  \n",
    "$$\n",
    "\\begin{align*}\n",
    "    x(t)&=\\sin(2\\pi f_1 t) + 0.2\\sin(2\\pi f_2 t)\n",
    "\\end{align*}\n",
    "$$\n",
    "where $f_1$ and $f_2$ are frequencies. We will have $f_1 > f_2$ \n",
    "\n",
    "**Draw a block diagram showing the system.**\n",
    "\n",
    "\n",
    "First we do the imports"
   ]
  },
  {
   "cell_type": "code",
   "execution_count": null,
   "metadata": {},
   "outputs": [],
   "source": [
    "%matplotlib widget\n",
    "import numpy as np\n",
    "import matplotlib.pyplot as plt\n",
    "import scipy.signal as signal\n",
    "plt.rcParams['figure.figsize'] = (6.0, 3)\n"
   ]
  },
  {
   "cell_type": "markdown",
   "metadata": {},
   "source": [
    "We now implement the signal and sample it.\n",
    "The parameters we are using are:\n",
    "$$\n",
    "\\begin{align*}\n",
    "    f_1&=1024~\\text{Hz}\\\\\n",
    "    f_2&=128~\\text{Hz}\\\\\n",
    "    f_s&=8192~\\text{Hz}\\\\\n",
    "    N &= 1024\n",
    "\\end{align*}\n",
    "$$"
   ]
  },
  {
   "cell_type": "code",
   "execution_count": null,
   "metadata": {},
   "outputs": [],
   "source": [
    "N = 1024 \n",
    "fs = 8192 # Hz\n",
    "f1 = 1024 # Hz\n",
    "f2 = 128 # Hz\n",
    "\n",
    "ts = 1/fs # s\n",
    "n = np.arange(0,N,1)\n",
    "\n",
    "x = np.sin(2*np.pi*f1*n*ts) + 0.2*np.sin(2*np.pi*f2*n*ts)\n",
    "\n",
    "plt.figure()\n",
    "plt.plot(n,x,'--.')\n",
    "plt.xlabel('$n$')\n",
    "plt.ylabel('$x[n]$')\n",
    "plt.xlim([0,100]) # Only show the first 100 samples\n",
    "plt.grid()\n",
    "plt.tight_layout()\n",
    "\n",
    "# Plot the DFT\n",
    "plt.figure()\n",
    "X = np.fft.fft(x,N)\n",
    "plt.plot(np.arange(0,N)*fs/N,np.abs(X),'-o')\n",
    "plt.xlabel('$f$ (Hz)')\n",
    "plt.ylabel('Magnitude')\n",
    "plt.xlim([0,fs/2]) # Only showing the half the plot\n",
    "\n",
    "plt.grid()\n",
    "plt.tight_layout()\n",
    "plt.show()"
   ]
  },
  {
   "cell_type": "markdown",
   "metadata": {},
   "source": [
    "## Filtering so that only the data is shown\n",
    "\n",
    "Your task now is to implement a filter that only lets through the slow signal. \n",
    "One choice for this is a lowpass filter. \n",
    "Below is some code. Finish it to complete the filter. \n",
    "You have to choose which filter to use."
   ]
  },
  {
   "cell_type": "markdown",
   "metadata": {},
   "source": [
    "#### Chebyshev Window filter"
   ]
  },
  {
   "cell_type": "code",
   "execution_count": null,
   "metadata": {},
   "outputs": [],
   "source": [
    "damp = #dB, the dampening in the stopband\n",
    "cutoff =  # The cutoff frequency in Hz\n",
    "stop = # Desired stopband start frequency, \n",
    "Nt =  # input the calculation for number of taps  \n",
    "Nt = int(np.ceil(Nt)) # Round up number of taps (coefficients) \n",
    "print('Number of taps', Nt)\n",
    "\n",
    "h = signal.firwin(Nt, cutoff = cutoff, window =('chebwin', damp),fs=fs) # Design the filter using a Chebyshev window"
   ]
  },
  {
   "cell_type": "markdown",
   "metadata": {},
   "source": [
    "#### Optimum filter"
   ]
  },
  {
   "cell_type": "code",
   "execution_count": null,
   "metadata": {},
   "outputs": [],
   "source": [
    "damp = #dB, the dampening in the stopband\n",
    "cutoff = # Desired cutoff frequency, Hz\n",
    "stop = # Desired stopband start frequency, Hz\n",
    "trans_width = # Width of transition from pass band to stop band, Hz\n",
    "Nt =  # input the calculation for number of taps  \n",
    "Nt = int(np.ceil(Nt)) # Round up number of taps (coefficients) \n",
    "print('Number of taps', Nt)\n",
    "h = signal.remez(Nt, [0, cutoff, cutoff + trans_width, 0.5*fs], [1, 0], Hz=fs)\n"
   ]
  },
  {
   "cell_type": "markdown",
   "metadata": {},
   "source": [
    "We now plot the frequency and phase response of the filter"
   ]
  },
  {
   "cell_type": "code",
   "execution_count": null,
   "metadata": {},
   "outputs": [],
   "source": [
    "# Getting the frequency response\n",
    "\n",
    "# Plot the frequency response of the filter\n",
    "w, H = signal.freqz(h, worN=N)\n",
    "\n",
    "\n",
    "\n",
    "plt.plot(0.5*fs*w/np.pi, 20*np.log10(np.abs(H)), linewidth=2)\n",
    "plt.xlabel('Frequency (Hz)')\n",
    "plt.ylabel('Gain (dB)')\n",
    "plt.title('Frequency Response')\n",
    "\n",
    "plt.grid()\n",
    "plt.tight_layout()\n",
    "plt.show()\n",
    "\n",
    "plt.figure()\n",
    "plt.plot(0.5*fs*w/np.pi, np.angle(H))\n",
    "plt.grid(True)\n",
    "plt.ylabel('Phase [rad]')\n",
    "plt.xlabel('Frequency [Hz]')\n",
    "plt.title('Phase Response')\n",
    "\n"
   ]
  },
  {
   "cell_type": "markdown",
   "metadata": {},
   "source": [
    "## Using the filter \n",
    "\n",
    "We are now going to test your filter"
   ]
  },
  {
   "cell_type": "code",
   "execution_count": null,
   "metadata": {},
   "outputs": [],
   "source": [
    "filt = signal.convolve(x,h,mode='valid') # Convolving the filter coefficients and the signal\n",
    "\n",
    "# Plotting the result\n",
    "plt.figure()\n",
    "plt.plot(filt,'--.')\n",
    "plt.xlabel('')\n",
    "plt.ylabel('filterd')\n",
    "plt.grid()\n",
    "plt.tight_layout()\n",
    "plt.show()\n",
    "\n",
    "# Plot the DFT\n",
    "plt.figure()\n",
    "Filt = np.fft.fft(filt,N)\n",
    "plt.plot(np.arange(0,N)*fs/N,np.abs(Filt),'-o')\n",
    "plt.xlabel('$f$ (Hz)')\n",
    "plt.ylabel('Magnitude')\n",
    "plt.xlim([0,fs/2]) # Only showing the half the plot\n",
    "\n",
    "plt.grid()\n",
    "plt.tight_layout()\n",
    "plt.show()\n"
   ]
  }
 ],
 "metadata": {
  "anaconda-cloud": {},
  "kernelspec": {
   "display_name": "Python 3 (ipykernel)",
   "language": "python",
   "name": "python3"
  },
  "language_info": {
   "codemirror_mode": {
    "name": "ipython",
    "version": 3
   },
   "file_extension": ".py",
   "mimetype": "text/x-python",
   "name": "python",
   "nbconvert_exporter": "python",
   "pygments_lexer": "ipython3"
  }
 },
 "nbformat": 4,
 "nbformat_minor": 4
}

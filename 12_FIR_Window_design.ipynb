{
 "cells": [
  {
   "cell_type": "markdown",
   "metadata": {},
   "source": [
    "# Designing a FIR filter with a window\n",
    "\n",
    "In this notebook we are going to look at how to design a FIR filter using a window.\n",
    "Do the imports"
   ]
  },
  {
   "cell_type": "code",
   "execution_count": null,
   "metadata": {},
   "outputs": [],
   "source": [
    "%matplotlib widget\n",
    "import scipy.signal as signal\n",
    "import matplotlib.pyplot as plt\n",
    "import numpy as np\n",
    "np.seterr(divide='ignore')\n",
    "\n",
    "def plotConv(fignum, title, x, h, fs):\n",
    "    '''\n",
    "    Function to plot the filter and signal\n",
    "\n",
    "    Parameters\n",
    "    ----------\n",
    "    fignum : int\n",
    "            figure number\n",
    "\n",
    "    title : str\n",
    "            The figure title\n",
    "\n",
    "    x : numpy array\n",
    "        The input signal\n",
    "\n",
    "    h : numpy array\n",
    "        The filter coefficients\n",
    "\n",
    "    fs : float\n",
    "        The sampling frequency input signal\n",
    "\n",
    "    '''\n",
    "\n",
    "    Nx = len(x)\n",
    "    n = np.arange(Nx)\n",
    "\n",
    "    \n",
    "    plt.figure(fignum,figsize=(14,9))\n",
    "    plt.clf()\n",
    "    fig, ax = plt.subplots( nrows=2, ncols=3, figsize = (14, 9), num = fignum)\n",
    "\n",
    "\n",
    "    # Plot the resulting input signal in the time domain\n",
    "    ax[0, 0].plot(n, x, '-o')\n",
    "    ax[0, 0].set_xlabel('$n$')\n",
    "    ax[0, 0].set_ylabel('$x[n]$')\n",
    "    ax[0, 0].set_title('Input signal')\n",
    "\n",
    "    # Take the FFT of the input signal and plot it\n",
    "    ax[1, 0].plot(n*fs/Nx, np.abs(np.fft.fft(x)), '-o')\n",
    "    ax[1, 0].set_xlabel('$f$ (Hz)')\n",
    "    ax[1, 0].set_ylabel('$X[f]$')\n",
    "    ax[1, 0].set_title('FFT of input signal')\n",
    "\n",
    "    # Take the FFT of the filter coefficients\n",
    "    Nk = len(h)  # For holding the length of H\n",
    "\n",
    "    H = np.fft.fft(h)\n",
    "    k = np.arange(Nk)\n",
    "    \n",
    "\n",
    "    ax[0, 1].plot(k,h, '-o')\n",
    "    ax[0, 1].set_xlabel('$h$')\n",
    "    ax[0, 1].set_ylabel('$h[k]$ ')\n",
    "    ax[0, 1].set_title('Filter coefficients')\n",
    "\n",
    "    ax[1, 1].plot(k*fs/Nk, 20*np.log10(np.abs(H)), '-o')\n",
    "    ax[1, 1].set_xlabel('$f$ (Hz)')\n",
    "    ax[1, 1].set_ylabel('$H[f]$ (dB)')\n",
    "    ax[1, 1].set_title('Frequency respons (FFT) of the filter')\n",
    "\n",
    "\n",
    "    # Plot the phase response\n",
    "    #ax[1, 1].plot(k*fs/Nk, np.arctan2(np.imag(H), np.real(H)), 'o')\n",
    "    #ax[1, 1].set_xlabel('$f$ (Hz)')\n",
    "    #ax[1, 1].set_ylabel('$H_{\\phi}[f]$ (rad)')\n",
    "    #ax[1, 1].set_title('Phase  response (FFT) of the filter')\n",
    "\n",
    "    # Apply the filter to the input signal using convolution\n",
    "    y = np.convolve(h, x)\n",
    "\n",
    "    Ny = len(y)\n",
    "    ny = np.arange(Ny)\n",
    "\n",
    "    # Plot the resulting output signal\n",
    "    ax[0, 2].plot(ny, y, '-o')\n",
    "    ax[0, 2].set_xlabel('$n$')\n",
    "    ax[0, 2].set_ylabel('$y[n]$')\n",
    "    ax[0, 2].set_title('Output signal')\n",
    "\n",
    "    # Plot the FFT of the signal\n",
    "    ax[1, 2].plot(ny*fs/Ny, np.abs(np.fft.fft(y)), '-o')\n",
    "    ax[1, 2].set_xlabel('$f$ (Hz)')\n",
    "    ax[1, 2].set_ylabel('$Y_{mag}$')\n",
    "    ax[1, 2].set_title('FFT of Output signal')\n",
    "    plt.show()\n",
    "\n"
   ]
  },
  {
   "cell_type": "markdown",
   "metadata": {},
   "source": [
    "Design the window, here a square window for $H(m)$"
   ]
  },
  {
   "cell_type": "code",
   "execution_count": null,
   "metadata": {},
   "outputs": [],
   "source": [
    "Nh = 64\n",
    "\n",
    "# Initialising  an array to hold H\n",
    "H = np.zeros(Nh)\n",
    "\n",
    "# Set the one sided length (in m) of the filter\n",
    "K2 = 5  # K/2+1\n",
    "\n",
    "# Write this on both sides of the H (remembering the symmetry). The DC-component\n",
    "# (m=0) is not written.\n",
    "H[0:K2+1] = 1\n",
    "H[Nh-K2:Nh] = 1\n",
    "\n",
    "\n",
    "# Plot the resulting frequency response as a function of m\n",
    "plt.figure(1)\n",
    "plt.clf()\n",
    "plt.plot(H, 'o')\n",
    "plt.xlabel('$m$')\n",
    "plt.ylabel('$H[m]$')\n",
    "plt.grid()\n",
    "plt.tight_layout()\n",
    "plt.show()\n"
   ]
  },
  {
   "cell_type": "markdown",
   "metadata": {},
   "source": [
    "Notice that the x-axis is in $m$, and not in frequency, meaning that the cut-off\n",
    "frequency will depend on the sampling frequency.\n",
    "\n",
    "# Calculating the filter coefficients\n",
    "\n",
    "We are now going to calculate the filter coefficients by doing the invers DFT\n",
    "$$\n",
    "h(k) = \\frac{1}{N}\\sum_{m = 0} ^ {N-1} H(m) e ^ {j 2\\pi m k / N}\n",
    "$$"
   ]
  },
  {
   "cell_type": "code",
   "execution_count": null,
   "metadata": {},
   "outputs": [],
   "source": [
    "# Finding the filter coefficients by taking the inverse FFT\n",
    "hr = np.fft.ifft(H, Nh)\n",
    "\n",
    "hr = np.real(hr)  # We are only want the real values\n",
    "\n",
    "# Plot the figure of the filter coefficients\n",
    "plt.figure(2)\n",
    "plt.clf()\n",
    "plt.plot(hr, 'o')\n",
    "plt.xlabel('$k$')\n",
    "plt.ylabel('$h[k]$')\n",
    "plt.tight_layout()\n",
    "plt.show()"
   ]
  },
  {
   "cell_type": "markdown",
   "metadata": {},
   "source": [
    "In the figure we need to check that the filter coefficients are symetrical and\n",
    "don't wary to much."
   ]
  },
  {
   "cell_type": "code",
   "execution_count": null,
   "metadata": {},
   "outputs": [],
   "source": [
    "# We want to shift it to the center to make the final filter symmetric\n",
    "\n",
    "h = np.roll(hr, Nh//2)  # Roll the filter 32 steps\n",
    "\n",
    "h = h[1:]  # Removing the point making it non-symetric\n",
    "\n",
    "plt.figure(3)\n",
    "plt.clf()\n",
    "plt.plot(h, 'o')\n",
    "plt.xlabel('$k$')\n",
    "plt.ylabel('$h[k]$')\n",
    "plt.grid()\n",
    "plt.tight_layout()\n",
    "plt.show()\n"
   ]
  },
  {
   "cell_type": "markdown",
   "metadata": {},
   "source": [
    "Once you are sattisfied about this we will make the signal to test how the filter\n",
    "works.\n"
   ]
  },
  {
   "cell_type": "code",
   "execution_count": null,
   "metadata": {},
   "outputs": [],
   "source": [
    "Nx = 100\n",
    "nx = np.arange(Nx)\n",
    "\n",
    "fs = 50  # Sampling frequency in Hz\n",
    "ts = 1/fs  # Sampling time in s\n",
    "\n",
    "f1 = 1  # Frequency of the first signal in Hz\n",
    "f2 = 20  # Frequency of the second signal in Hz\n",
    "\n",
    "# Making the signal as a sum of two cosines.\n",
    "x = np.cos(2*np.pi*f1*nx*ts) + np.cos(2*np.pi*f2*nx*ts)\n"
   ]
  },
  {
   "cell_type": "markdown",
   "metadata": {},
   "source": [
    "We can now visualise the signal, the filter and the output signal found as the convolution of the input signal $x[n]$ and the filter koefficients $h[k]$."
   ]
  },
  {
   "cell_type": "code",
   "execution_count": null,
   "metadata": {},
   "outputs": [],
   "source": [
    "\n",
    "plotConv(4, 'Rectangular LP filter', x, h, fs)\n"
   ]
  },
  {
   "cell_type": "markdown",
   "metadata": {},
   "source": [
    "## Lowpass to bandpass \n",
    "Make a bandpass filter out of the LP with a center frequency of\n",
    "$$ f_c = \\frac{f_s}{4} $$\n"
   ]
  },
  {
   "cell_type": "code",
   "execution_count": null,
   "metadata": {},
   "outputs": [],
   "source": [
    "fc = fs / 4 # The center frequency\n",
    "ns = np.arange(len(h)) # The n values for the shift function, with the same length as h\n",
    "\n",
    "Sskift = np.sin(2 * np.pi * fc * ns / fs) # The shift function\n",
    "\n",
    "# Calculate the  resulting bandpass filter\n",
    "hbp = Sskift * h\n",
    "\n",
    "# Plotting it \n",
    "plotConv(5, 'Rectangular BP filter', x, hbp, fs)"
   ]
  },
  {
   "cell_type": "markdown",
   "metadata": {},
   "source": [
    "## Low pass to highpass \n",
    "Make a bandpass filter out of the LP with a center frequency of\n",
    "$$ f_c = \\frac{f_s}{2} $$\n"
   ]
  },
  {
   "cell_type": "code",
   "execution_count": null,
   "metadata": {},
   "outputs": [],
   "source": [
    "fc = fs / 2 # The center frequency\n",
    "\n",
    "# We want a sequence that goes (1, -1, 1, -1 … ) \n",
    "Sskift = np.cos(2 * np.pi * fc * ns / fs) # The shift function\n",
    "\n",
    "# Calculate the  resulting bandpass filter\n",
    "hhp = Sskift * h\n",
    "\n",
    "# Plotting it \n",
    "plotConv(6, 'Rectangular HP filter', x, hhp, fs)\n"
   ]
  },
  {
   "cell_type": "markdown",
   "metadata": {},
   "source": [
    "# Manual window filter design \n",
    "In practise we would use windows and not rectanguar selections to generate our filter response. We are now going to do this. \n",
    "\n",
    "We will first take a look at the window and see how it looks. The window of choice is the Dolph-Chebyshev window."
   ]
  },
  {
   "cell_type": "code",
   "execution_count": null,
   "metadata": {},
   "outputs": [],
   "source": [
    "\n",
    "# Make the window, by setting the number of coefficients, M, and the attenu\n",
    "M = 64  # Number of coefficients\n",
    "at = 100  # Attenuation of the window in dB\n",
    "\n",
    "# Get the window and plot it \n",
    "w = signal.get_window(('chebwin', at), M)\n",
    "\n",
    "plt.figure(7)\n",
    "plt.clf()\n",
    "plt.plot(w, '.')\n",
    "plt.title(\"Dolph-Chebyshev window (100 dB)\")\n",
    "plt.ylabel(\"$H[m]$\")\n",
    "plt.xlabel(\"$m$\")\n",
    "plt.show()\n"
   ]
  },
  {
   "cell_type": "markdown",
   "metadata": {},
   "source": [
    "As can be seen, this is a highpass filter, and not a lowpass, meaning that we need to shift it"
   ]
  },
  {
   "cell_type": "code",
   "execution_count": null,
   "metadata": {},
   "outputs": [],
   "source": [
    "# We want a lowpass \n",
    "ww = np.roll(w, M//2)\n",
    "\n",
    "# Find the resulting real filter coefficients\n",
    "htmp = np.real(np.fft.ifft(ww, M))\n",
    "\n",
    "hw = np.roll(htmp, M//2)\n",
    "\n",
    "# Remove the non-symetric \n",
    "hw = hw[1:]  \n",
    "\n",
    "# Plot how the filter works on the signal\n",
    "\n",
    "plotConv(8, 'Dolph-Chebyshev LP filter', x, hw, fs)\n"
   ]
  },
  {
   "cell_type": "markdown",
   "metadata": {},
   "source": [
    "## Window FIR filter design using algorithms \n",
    "\n",
    "We will now use the *scipy* method of [firwin](https://docs.scipy.org/doc/scipy/reference/generated/scipy.signal.firwin.html)  \n"
   ]
  },
  {
   "cell_type": "code",
   "execution_count": null,
   "metadata": {},
   "outputs": [],
   "source": [
    "\n",
    "# We now add a new signal to x in order to test how bandpass / bandstop filter might work \n",
    "f3 = 7 # Frequency in Hz\n",
    "\n",
    "z= x + np.cos(2 * np.pi * f3 * nx / fs + np.pi / 5.4)\n",
    "\n",
    "taps = 71 # Number of taps in the filter \n",
    "fcut = [5, 9] # Cut of frequencies in Hz\n",
    "# Make the bandstop filter using firwin, check the documentation for explanation of parameters\n",
    "\n",
    "hf = signal.firwin(taps, fcut, pass_zero=False, window=('chebwin', 100), fs=fs)\n",
    "\n",
    "# Apply and plot the filter \n",
    "plotConv(9, 'FIRwin filter', z, hf, fs)"
   ]
  },
  {
   "cell_type": "code",
   "execution_count": null,
   "metadata": {},
   "outputs": [],
   "source": []
  }
 ],
 "metadata": {
  "kernelspec": {
   "display_name": "Python 3 (ipykernel)",
   "language": "python",
   "name": "python3"
  },
  "language_info": {
   "codemirror_mode": {
    "name": "ipython",
    "version": 3
   },
   "file_extension": ".py",
   "mimetype": "text/x-python",
   "name": "python",
   "nbconvert_exporter": "python",
   "pygments_lexer": "ipython3"
  }
 },
 "nbformat": 4,
 "nbformat_minor": 4
}

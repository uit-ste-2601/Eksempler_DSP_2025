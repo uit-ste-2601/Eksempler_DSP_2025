{
 "cells": [
  {
   "cell_type": "code",
   "execution_count": null,
   "metadata": {},
   "outputs": [],
   "source": [
    "%matplotlib widget\n",
    "  \n",
    "from matplotlib import pyplot as plt\n",
    "from matplotlib.animation import FuncAnimation\n",
    "from random import randrange\n",
    "from threading import Thread\n",
    "import time\n",
    "import sys\n",
    "import numpy as np\n",
    "  \n",
    "\n",
    "def  impuls(n):\n",
    "    if n==0:\n",
    "        return 1\n",
    "    return 0\n",
    "\n",
    "def shift(x, old_x):\n",
    "    return np.concatenate(([x],old_x[0:-1]))\n",
    "\n",
    "def system1(x_n,old_x,delay = 4):\n",
    "    return 1/(delay+1) * (x_n + np.sum(old_x[0:delay]))\n",
    "    "
   ]
  },
  {
   "cell_type": "markdown",
   "metadata": {},
   "source": [
    "## System 1\n",
    "The system we have implemented is \n",
    "$$ \n",
    "\\begin{align}\n",
    "y[n]=\\sum_{k=n-N}^{n} \\frac{x[k]}{N+1}\n",
    "\\end{align}\n",
    "$$\n",
    "with $N=4$"
   ]
  },
  {
   "cell_type": "code",
   "execution_count": null,
   "metadata": {},
   "outputs": [],
   "source": [
    "\n",
    "class LiveGraph:\n",
    "    def __init__(self,func):\n",
    "        self.func = func\n",
    "        self.n_data, self.y_data = [], []\n",
    "        self.d_data = []\n",
    "        self.old_x = np.zeros(50)\n",
    "        self.figure = plt.figure()\n",
    "        self.ax1 = plt.subplot(211)\n",
    "        self.ax2 = plt.subplot(212)\n",
    "\n",
    "        self.ax1.set_ylabel('x[n]')\n",
    "        self.ax2.set_ylabel('y[n]')\n",
    "        self.ax2.set_xlabel('n')\n",
    "\n",
    "        self.line1, = self.ax1.plot(self.n_data, self.d_data,'o',markerfacecolor='red')\n",
    "        self.line2, = self.ax2.plot(self.n_data, self.y_data,'o',markerfacecolor='red')\n",
    "        plt.grid()\n",
    "        self.interval = 500\n",
    "        self.animation = FuncAnimation(self.figure, self.update, interval=self.interval, save_count=10)\n",
    "        self.th = Thread(target=self.thread_f, daemon=True)\n",
    "        self.th.start()\n",
    "\n",
    "\n",
    "    def update(self, frame):\n",
    "        self.line1.set_data(self.n_data, self.d_data)\n",
    "        self.line2.set_data(self.n_data, self.y_data)\n",
    "        self.ax1.relim()\n",
    "        self.ax2.relim()\n",
    "        self.ax1.autoscale_view()\n",
    "        self.ax2.autoscale_view()\n",
    "        return self.line1\n",
    "\n",
    "    def show(self):\n",
    "        plt.show()\n",
    "\n",
    "    def thread_f(self):\n",
    "        n = -10\n",
    "        while n<40:\n",
    "            x_n = impuls(n)\n",
    "            self.n_data.append(n)\n",
    "            self.d_data.append(x_n)\n",
    "            self.y_data.append(self.func(x_n,self.old_x))   \n",
    "            if len(self.n_data)>20:\n",
    "                self.y_data.pop(0)\n",
    "                self.d_data.pop(0)\n",
    "                self.n_data.pop(0)\n",
    "\n",
    "            self.old_x=shift(x_n, self.old_x)\n",
    "            n += 1\n",
    "            time.sleep(self.interval/1000)  \n",
    "        sys.exit()\n",
    "          \n"
   ]
  },
  {
   "cell_type": "code",
   "execution_count": null,
   "metadata": {},
   "outputs": [],
   "source": [
    "g = LiveGraph(system1)\n",
    "g.show()"
   ]
  },
  {
   "cell_type": "markdown",
   "metadata": {},
   "source": [
    "## System 2\n",
    "The system we have implemented is \n",
    "$$ \n",
    "\\begin{align}\n",
    "h[k]&=[1,2,3,2,1]\\\\\n",
    "    y[n]&=h[k]* x[n]\n",
    "\\end{align}\n",
    "$$"
   ]
  },
  {
   "cell_type": "code",
   "execution_count": null,
   "metadata": {},
   "outputs": [],
   "source": [
    "def system2(x_n,old_x):\n",
    "    h_k = [1,2,3,2,1]\n",
    "    \n",
    "    Xs = np.concatenate(([x_n],old_x))\n",
    "\n",
    "    conv = np.convolve(h_k,Xs)[4]\n",
    "    return conv\n",
    "\n",
    "g = LiveGraph(system2)\n",
    "g.show()\n"
   ]
  },
  {
   "cell_type": "code",
   "execution_count": null,
   "metadata": {},
   "outputs": [],
   "source": []
  }
 ],
 "metadata": {
  "kernelspec": {
   "display_name": "Python 3 (ipykernel)",
   "language": "python",
   "name": "python3"
  },
  "language_info": {
   "codemirror_mode": {
    "name": "ipython",
    "version": 3
   },
   "file_extension": ".py",
   "mimetype": "text/x-python",
   "name": "python",
   "nbconvert_exporter": "python",
   "pygments_lexer": "ipython3"
  }
 },
 "nbformat": 4,
 "nbformat_minor": 4
}

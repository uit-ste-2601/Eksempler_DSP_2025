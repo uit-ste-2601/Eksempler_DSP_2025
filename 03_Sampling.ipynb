{
 "cells": [
  {
   "cell_type": "markdown",
   "metadata": {},
   "source": [
    "# Hvordan foregår sampling?"
   ]
  },
  {
   "cell_type": "code",
   "execution_count": null,
   "metadata": {},
   "outputs": [],
   "source": [
    "%matplotlib widget\n",
    "#%matplotlib notebook\n",
    "import numpy as np\n",
    "import matplotlib.pyplot as plt"
   ]
  },
  {
   "cell_type": "markdown",
   "metadata": {},
   "source": [
    "## Analogt signal \n",
    "Analoge signaler er kontinuerlige både i amplitude og tid.\n",
    "\n",
    "$$\n",
    "    x(t)=\\sin(2\\pi f_0t)\n",
    "$$\n",
    "hvor $f_0$ er frekvensen i Hz (s$^{-1}$) og $t$ er tida i sekunder. Enheten for $2\\pi f_0t$ er radianer. \n",
    "\n",
    "Et analogt signal kan ikke lages på en digital PC, men vi kan plotte noe som \n",
    "er tilnærmet det samme.\n",
    "Vi kommer her til å plotte funksjonen:\n",
    "$$\n",
    "    x(t)=2\\sin(2\\pi f_0t) \\label{eq:cont_sin}\n",
    "$$\n",
    "hvor $f_0 = 0.50$ Hz"
   ]
  },
  {
   "cell_type": "code",
   "execution_count": null,
   "metadata": {},
   "outputs": [],
   "source": [
    "t_min = 0  # start (s)\n",
    "t_max = 4  # slutt (s)\n",
    "f0 = 0.5 # Hz\n",
    "\n",
    "# Lager en \"kontinuerlig tid\"\n",
    "t = np.arange(t_min, t_max, 0.001)  \n",
    "\n",
    "# Beregner x(t)\n",
    "x = 2 * np.sin(2 * np.pi * f0 * t)\n",
    "\n",
    "# Setter opp figuren \n",
    "plt.figure()\n",
    "\n",
    "# Plotter figuren \n",
    "plt.plot(t, x)\n",
    "plt.grid()\n",
    "plt.xlim([0, t_max])\n",
    "plt.xlabel('Tid (s)')\n",
    "plt.ylabel('x(t)')\n",
    "plt.show()\n"
   ]
  },
  {
   "cell_type": "markdown",
   "id": "8bb264ef",
   "metadata": {},
   "source": [
    "## Diskret signal\n",
    "\n",
    "Disse signalene er kvantiserte i tid, men kontinuerlige i amplitude. \n",
    "Hvert tidssteg er av lengde $t_s$ som gjør at ligning for et diskret signal kan skrives som:\n",
    "$$\n",
    "    x[n] = \\sin(2\\pi f_0nt_s)\n",
    "$$\n",
    "hvor $n=0 , 1 , 2 ,...$ er et heltall. Legg merke til notasjonen $x[n]$.\n",
    "\n",
    "$t_s$ er tiden mellom hvert sampel. \n",
    "Vi snakker ofte om samplingsfrekvensen $f_s$ i stedet for samplingstiden $t_s$. De er relatert ved at \n",
    "$$\n",
    "    f_s = \\frac{1}{t_s}\n",
    "$$"
   ]
  },
  {
   "cell_type": "markdown",
   "metadata": {},
   "source": [
    "Nå skal du være A/D omformeren og sample denne funksjonen ut fra grafen (ikke\n",
    "funksjonen).\n",
    "\n",
    "Din samplingsfrekvens er $f_s = 2$ Hz, altså to målinger per\n",
    "sekund. \n",
    "\n",
    "Du kan fylle den målte `x[n]`nedenfor (erstatt `x0, x1, …`), så kan de\n",
    "plottes:"
   ]
  },
  {
   "cell_type": "code",
   "execution_count": null,
   "metadata": {},
   "outputs": [],
   "source": [
    "data = np.array([\n",
    "# n, x \n",
    "[ 0, x0],\n",
    "[ 1, x1],\n",
    "[ 2, x2],\n",
    "[ 3, x3],\n",
    "[ 4, x4],\n",
    "[ 5, x5],\n",
    "[ 6, x6],\n",
    "[ 7, x7]\n",
    "])\n",
    "\n",
    "display(data) # Viser dataen du har tastet inn\n",
    "\n",
    "# Plot den digitale dataen som et stem plot \n",
    "plt.figure()\n",
    "plt.stem(data[:,0],data[:, 1], '--b', basefmt = 'k')\n",
    "plt.grid()\n",
    "plt.xlim([0, data.shape[0] - 0.8])\n",
    "plt.xlabel('Tid (n)')\n",
    "plt.ylabel('x[n]')\n",
    "plt.show()\n",
    "\n"
   ]
  },
  {
   "cell_type": "markdown",
   "metadata": {},
   "source": [
    "Hva skjer om vi forandrer samplingsfrekvensen til $f_s = 3$ Hz?\n",
    "\n",
    "Og hva med $f_s = 1/2$ Hz?\n",
    "\n",
    "## Digitale signaler\n",
    "\n",
    "Digitale signaler er signaler hvor både amplituden og tiden er kvantiserte.\n",
    "\n",
    "Disse kan lages ved å sampel hvert $t_s$ sekund med en A/D omformer. Dette generer en liste med verdier $x[n]$ for hver $n$. Ingen verdier mellom disse.\n",
    "$$\n",
    "\\begin{align*}\n",
    "    x[n=0] &= 0\\\\\n",
    "    x[ n=1 ] &= 0,31\\\\\n",
    "    x[ 2 ] &= 0,51\n",
    "\\end{align*}\n",
    "$$\n",
    "Vi kan gå mellom tid, $t$, og $t_s$ slik\n",
    "$$\n",
    "\\begin{align*}\n",
    "    t&=nt_s\\\\\n",
    "    x[ n ]&=\\sin(2\\pi f_0 nt_s)\\\\\n",
    "    x(t)&=\\sin(2\\pi f_0 t)\n",
    "\\end{align*}\n",
    "$$\n",
    "$nt_s$ kalles diskret tid.\n"
   ]
  },
  {
   "cell_type": "markdown",
   "metadata": {},
   "source": [
    "Vi opperer i bineære tall, så det du skrev inn som målinger gis ut av A/D \n",
    "omformeren som sampler seende ut slik (ganger med 100 og convertert til int8)."
   ]
  },
  {
   "cell_type": "code",
   "execution_count": null,
   "metadata": {},
   "outputs": [],
   "source": [
    "xn = data[:,1]\n",
    "\n",
    "xn_int8 = (xn*100).astype(np.int8)\n",
    "for i in xn_int8:\n",
    "    print(i, np.binary_repr(i))\n"
   ]
  },
  {
   "cell_type": "markdown",
   "metadata": {},
   "source": [
    "```"
   ]
  }
 ],
 "metadata": {
  "kernelspec": {
   "display_name": "Python 3 (ipykernel)",
   "language": "python",
   "name": "python3"
  },
  "language_info": {
   "codemirror_mode": {
    "name": "ipython",
    "version": 3
   },
   "file_extension": ".py",
   "mimetype": "text/x-python",
   "name": "python",
   "nbconvert_exporter": "python",
   "pygments_lexer": "ipython3"
  }
 },
 "nbformat": 4,
 "nbformat_minor": 4
}

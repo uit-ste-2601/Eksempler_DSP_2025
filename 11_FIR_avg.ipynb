{
 "cells": [
  {
   "cell_type": "markdown",
   "metadata": {},
   "source": [
    "# FIR\n",
    "\n",
    "In this notebook we are going to look at how to implement how to\n",
    "implement a simple moving average filter with $l$ number of taps\n",
    "$$\n",
    "\\begin{align*}\n",
    "    y_{\\text{avg}}[n]= \\frac{1}{l} \\sum_{k=n-(l-1)}^n x[k]\n",
    "\\end{align*}\n",
    "$$\n",
    "which for 5 taps looks like \n",
    "$$\n",
    "\\begin{align*}\n",
    "y_{\\text{avg}}[n]= \\frac{1}{5} \\sum_{k=n-4}^n x[k]\n",
    "\\end{align*}\n",
    "$$\n",
    "\n",
    "First we do\n",
    "the imports"
   ]
  },
  {
   "cell_type": "code",
   "execution_count": null,
   "metadata": {},
   "outputs": [],
   "source": [
    "%matplotlib widget\n",
    "import numpy as np\n",
    "import matplotlib.pyplot as plt\n",
    "import time\n",
    "import scipy.signal as signal\n",
    "plt.rcParams['figure.figsize'] = (6.0, 3)"
   ]
  },
  {
   "cell_type": "markdown",
   "metadata": {},
   "source": [
    "We are now going to implement the function.\n",
    "Below is a partially implemented\n",
    "function. The goal is to complete it"
   ]
  },
  {
   "cell_type": "code",
   "execution_count": null,
   "metadata": {},
   "outputs": [],
   "source": [
    "def average(x,taps):\n",
    "    '''\n",
    "    An averager, which returns the average filtered signal\n",
    "    \n",
    "    Parameters\n",
    "    ----------\n",
    "    x: numpy array\n",
    "       the discrete signal\n",
    "\n",
    "    taps: int\n",
    "       number of taps in the filter\n",
    "\n",
    "    \n",
    "    Returns\n",
    "    ----------\n",
    "    y: numpy array\n",
    "        the filtered discrete signal\n",
    "\n",
    "    '''               \n",
    "    N = len(x) # Number of samples in the signal \n",
    "    # How many values will y contain?\n",
    "    Ny = #...\n",
    "\n",
    "    y= np.zeros(Ny) # For holding the resulting signal For holding the DFT result\n",
    "    # We construct the for the looping over n\n",
    "    for n in range(Ny): # Looping over the number of values in y\n",
    "        # We now loop over k for the sum\n",
    "        for k in np.arange(n-(taps-1),n+1,1): # np.arange(start, stop+1, step)\n",
    "            if k < 0: # What should we do when the filter is asking for values \n",
    "                      # of x[k] with k<0 ? \n",
    "                y[n] = y[n] + #...\n",
    "            elif k>=N: # What should we do when k is larger than or equal to N\n",
    "                       # The filter wants x[k]\n",
    "                y[n] = y[n] +  #...\n",
    "            else: # This is when k is within the samples present in x \n",
    "                y[n] = y[n]+ #...\n",
    "\n",
    "    return y \n",
    "    "
   ]
  },
  {
   "cell_type": "markdown",
   "metadata": {},
   "source": [
    "## Testing the function\n",
    "\n",
    "We now give it a test signal for which is\n",
    "$$\n",
    "\\begin{align*}\n",
    "    x[n]=\n",
    "    \\begin{cases}\n",
    "        0,&n\\neq3  \\\\\n",
    "        1,&n=3\n",
    "\\end{cases}\n",
    "\\end{align*}\n",
    "$$\n",
    "\n",
    "It looks like this"
   ]
  },
  {
   "cell_type": "code",
   "execution_count": null,
   "metadata": {},
   "outputs": [],
   "source": [
    "N1 = 8\n",
    "n1 = np.arange(0,N1) # Make the n vector\n",
    "x1 = np.zeros(N1) # Fill the signal with 0\n",
    "x1[3] = 1 # Make the impulse\n",
    "\n",
    "# Plot the figure\n",
    "plt.figure()\n",
    "plt.plot(n1,x1,'o')\n",
    "plt.xlabel('$n$')\n",
    "plt.ylabel('$x[n]$')\n",
    "plt.grid()\n",
    "plt.tight_layout()\n",
    "plt.show()"
   ]
  },
  {
   "cell_type": "markdown",
   "metadata": {},
   "source": [
    "### Use the filter\n",
    "We now use the filter with 3 taps  and take a look at the\n",
    "output"
   ]
  },
  {
   "cell_type": "code",
   "execution_count": null,
   "metadata": {},
   "outputs": [],
   "source": [
    "y1 = average(x1,taps=3)\n",
    "\n",
    "plt.figure()\n",
    "plt.plot(n1,x1,'or')\n",
    "plt.plot(range(len(y1)),y1,'.b')\n",
    "plt.legend([r'$x[n]$',r'$y[n]$, taps = 3'])\n",
    "plt.xlabel('$n$')\n",
    "plt.ylabel('')\n",
    "plt.grid()\n",
    "plt.tight_layout()\n",
    "plt.show()"
   ]
  },
  {
   "cell_type": "markdown",
   "metadata": {},
   "source": [
    "If we now increase the number of taps to 7 we see what happens"
   ]
  },
  {
   "cell_type": "code",
   "execution_count": null,
   "metadata": {},
   "outputs": [],
   "source": [
    "y1 = average(x1,taps=7)\n",
    "\n",
    "plt.figure()\n",
    "plt.plot(n1,x1,'or')\n",
    "plt.plot(range(len(y1)),y1,'.b')\n",
    "plt.legend([r'$x[n]$',r'$y[n]$, taps=7'])\n",
    "plt.xlabel('$n$')\n",
    "plt.ylabel('')\n",
    "plt.grid()\n",
    "plt.tight_layout()\n",
    "plt.show()"
   ]
  },
  {
   "cell_type": "markdown",
   "metadata": {},
   "source": [
    "### A more complicated signal\n",
    "\n",
    "Now we want to employ the filter on a more\n",
    "complicated signal"
   ]
  },
  {
   "cell_type": "code",
   "execution_count": null,
   "metadata": {},
   "outputs": [],
   "source": [
    "x2 = [3,2,6,5,3,2,3,5,3,4]  \n",
    "n2 = range(len(x2))"
   ]
  },
  {
   "cell_type": "markdown",
   "metadata": {},
   "source": [
    "Plotting the signal and the filtered signal with 3 taps"
   ]
  },
  {
   "cell_type": "code",
   "execution_count": null,
   "metadata": {},
   "outputs": [],
   "source": [
    "y2 = average(x2,taps=3)\n",
    "\n",
    "plt.figure()\n",
    "plt.plot(n2,x2,'--or')\n",
    "plt.plot(range(len(y2)),y2,'--.b')\n",
    "plt.legend([r'$x[n]$',r'$y[n]$, taps=3'])\n",
    "plt.xlabel('$n$')\n",
    "plt.ylabel('')\n",
    "plt.grid()\n",
    "plt.tight_layout()\n",
    "plt.show()"
   ]
  },
  {
   "cell_type": "markdown",
   "metadata": {},
   "source": [
    "### What happens with a sinus\n",
    "Now we want to employ the filter on sine wave\n",
    "signal"
   ]
  },
  {
   "cell_type": "code",
   "execution_count": null,
   "metadata": {},
   "outputs": [],
   "source": [
    "fs = 20 # Hz\n",
    "ts = 1/fs # s\n",
    "N3 = 40 \n",
    "f3 = 1 # Hz\n",
    "n3 = np.arange(0,N3)\n",
    "x3 = np.sin(2*np.pi*f3*n3*ts)"
   ]
  },
  {
   "cell_type": "markdown",
   "metadata": {},
   "source": [
    "Plotting the signal and the filtered signals with 3, 7 and 11 taps"
   ]
  },
  {
   "cell_type": "code",
   "execution_count": null,
   "metadata": {},
   "outputs": [],
   "source": [
    "y3_3 = average(x3,taps=3)\n",
    "y3_7 = average(x3,taps=7)\n",
    "y3_11 = average(x3,taps=11)\n",
    "\n",
    "plt.figure()\n",
    "plt.plot(n3,x3,'--o')\n",
    "plt.plot(range(len(y3_3)),y3_3,'--.')\n",
    "plt.plot(range(len(y3_7)),y3_7,'--.')\n",
    "plt.plot(range(len(y3_11)),y3_11,'--.')\n",
    "plt.legend([r'$x[n]$',r'$y[n]$, taps=3',r'$y[n]$, taps=7',r'$y[n]$, taps=11'])\n",
    "plt.xlabel('$n$')\n",
    "plt.ylabel('')\n",
    "plt.grid()\n",
    "plt.tight_layout()\n",
    "plt.show()"
   ]
  },
  {
   "cell_type": "markdown",
   "metadata": {},
   "source": [
    "## Impulse response of the filter\n",
    "We now want to look at the impulse response for the averager filter with 5 taps. In order to understand the filter coefficients we are also interested in its DFT. Therefore the impulse will have 60 values for a 64-point DFT.\n",
    "The first task for you is to implement the impulse\n",
    "$$\n",
    "\\begin{align*}\n",
    "    \\delta(n) =\n",
    "    \\begin{cases}\n",
    "        1, &n=0 \\\\\n",
    "        0, &n\\neq0 \n",
    "    \\end{cases}\n",
    "\\end{align*}\n",
    "$$\n",
    "and calculate the response from the filter"
   ]
  },
  {
   "cell_type": "code",
   "execution_count": null,
   "metadata": {},
   "outputs": [],
   "source": [
    "taps = 5\n",
    "N = 64 \n",
    "\n",
    "# We first fill the vector for d with zeros\n",
    "d = np.zeros(N-taps+1) # 64-5+1 = 60\n",
    "# Now your task is to add the impulse\n",
    "d[0]= \n",
    "\n",
    "# The next task is to get the impulse response:\n",
    "h =  #...\n",
    "\n",
    "# We now plot both the impulse and its response\n",
    "plt.figure()\n",
    "plt.plot(range(len(d)),d,'o')\n",
    "plt.plot(range(len(h)),h,'.')\n",
    "plt.legend([r'$d[n]$',r'$h[k]$, taps=5'])\n",
    "plt.xlabel('$n$ and $k$')\n",
    "plt.ylabel('')\n",
    "plt.grid()\n",
    "plt.tight_layout()\n",
    "plt.show()"
   ]
  },
  {
   "cell_type": "markdown",
   "metadata": {},
   "source": [
    "As we can see the filter is characterised by 5 coefficients \n",
    "$$\n",
    "\\begin{align*}\n",
    "    h[k] = 0.2 \\qquad \\text{for}\\quad k=0,1,2,3,4 \n",
    "\\end{align*}\n",
    "$$\n",
    "We are now interested in the DFT of the impulse response, $H[m]$ and will be plotting the magnitude and phase"
   ]
  },
  {
   "cell_type": "code",
   "execution_count": null,
   "metadata": {},
   "outputs": [],
   "source": [
    "H = np.fft.fft(h)\n",
    "\n",
    "Hphi = np.fmod(np.angle(H),np.pi)\n",
    "\n",
    "plt.figure(figsize=[6,3])\n",
    "plt.plot(np.abs(H),'.')\n",
    "plt.xlabel ('m')\n",
    "plt.ylabel ('Magnitude')\n",
    "plt.tight_layout()\n",
    "\n",
    "plt.figure(figsize=[6,3])\n",
    "plt.plot(Hphi*180/np.pi,'.')\n",
    "plt.xlabel ('m');\n",
    "plt.ylabel ('Phase ($^\\circ$');\n",
    "plt.grid()\n",
    "plt.tight_layout()\n",
    "plt.show()"
   ]
  },
  {
   "cell_type": "code",
   "execution_count": null,
   "metadata": {},
   "outputs": [],
   "source": []
  }
 ],
 "metadata": {
  "kernelspec": {
   "display_name": "Python 3 (ipykernel)",
   "language": "python",
   "name": "python3"
  },
  "language_info": {
   "codemirror_mode": {
    "name": "ipython",
    "version": 3
   },
   "file_extension": ".py",
   "mimetype": "text/x-python",
   "name": "python",
   "nbconvert_exporter": "python",
   "pygments_lexer": "ipython3"
  }
 },
 "nbformat": 4,
 "nbformat_minor": 4
}

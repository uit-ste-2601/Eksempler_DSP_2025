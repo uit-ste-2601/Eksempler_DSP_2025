{
 "cells": [
  {
   "cell_type": "markdown",
   "metadata": {},
   "source": [
    "# DFT\n",
    "\n",
    "In this notebook we are going to look at how one could implement a DFT\n",
    "and how it compares to a FFT.\n",
    "First we do the imports:"
   ]
  },
  {
   "cell_type": "code",
   "execution_count": null,
   "metadata": {},
   "outputs": [],
   "source": [
    "%matplotlib widget\n",
    "from ipywidgets import *\n",
    "import numpy as np\n",
    "import matplotlib.pyplot as plt\n",
    "import time\n",
    "import scipy.signal as signal"
   ]
  },
  {
   "cell_type": "markdown",
   "metadata": {},
   "source": [
    "We are now going to implement the DFT which we remember is described by\n",
    "\n",
    "$$\n",
    "\\begin{align*}\n",
    "    X[m]=\\sum_{n=0}^{N-1} x[n]e^{-j2\\pi nm/N}\n",
    "\\end{align*}\n",
    "$$\n",
    "Below is a partially implemented function. Your goal is to complete it. To do so there are some functions that are usefull\n",
    "\n",
    "#### A for loop\n",
    "~~~python\n",
    "for idx in range(N): # N is an int variable \n",
    "    # This loop will give idx values from 0, 1 … N-1\n",
    "    # Do something in the loop\n",
    "    print(idx)\n",
    "\n",
    "a = 10 # We are now outside of the for loop```\n",
    "~~~\n",
    "\n",
    "#### Indexing\n",
    "Indeksing is done using `[]`  and starts on 0\n",
    "~~~python\n",
    "x[n:] # From n to the last element \n",
    "x[-1] # The last element \n",
    "x[n:m:3] # Every third element from n to m\n",
    "~~~\n",
    "You can also do boolean indexing\n",
    "~~~python\n",
    "x = np.random.random([10,10]) # Making random arrays of size 10 x 10 \n",
    "x[x>0] = 10 # Boolean indexing where we are setting all elements larger than 0 to 10\n",
    "~~~\n",
    "\n",
    "#### Constants\n",
    "~~~python\n",
    "b = 2+1j # j = 1j\n",
    "c = 2*np.pi # pi = np.pi\n",
    "~~~\n",
    "\n",
    "#### Functions \n",
    "~~~python\n",
    "np.exp(a)  # Exponential function, e^a \n",
    "np.sum(x) # Sum over all the elements in x\n",
    "np.conj(a) # The complex conjugate of a\n",
    "~~~\n",
    "\n",
    "#### Powers\n",
    "$ b^4 $\n",
    "~~~python\n",
    "b**4 \n",
    "~~~"
   ]
  },
  {
   "cell_type": "code",
   "execution_count": null,
   "metadata": {},
   "outputs": [],
   "source": [
    "def DFT(x,N,fs):\n",
    "    '''\n",
    "    Method for taking a DFT of a discrete signal\n",
    "    \n",
    "    Parameters\n",
    "    ----------\n",
    "    x: numpy array\n",
    "       the discrete signal\n",
    "\n",
    "    N: int\n",
    "       number of points in DFT\n",
    "\n",
    "    fs: float\n",
    "        the sampling frequency in Hz\n",
    "    \n",
    "    Returns\n",
    "    ----------\n",
    "    X: numpy array\n",
    "        the DFT of the discrete signal\n",
    "\n",
    "    f: numpy array\n",
    "        the frequencies of each step in the DFT\n",
    "    '''               \n",
    "    X = np.zeros(N,dtype=complex) # For holding the DFT result\n",
    "    f = np.zeros(N,dtype=float) # For holding the frequencies\n",
    "\n",
    "    return X, f \n",
    "    "
   ]
  },
  {
   "cell_type": "markdown",
   "metadata": {},
   "source": [
    "## Testing the DFT\n",
    "\n",
    "We now want to test the DFT. By taking the 8 point DFT of \n",
    "$$\n",
    "\\begin{align*}\n",
    "    x(t)=\\sin(2\\pi 2t)\n",
    "\\end{align*}\n",
    "$$\n",
    "sampled at $f_s=8$~Hz\n",
    "\n",
    "Make the discrete series:"
   ]
  },
  {
   "cell_type": "code",
   "execution_count": null,
   "metadata": {},
   "outputs": [],
   "source": [
    "\n",
    "N=8\n",
    "fs = 8 # Hz\n",
    "ts=1/fs\n",
    "n = np.arange(0,N,1) # number of steps in the discrete series\n",
    "\n",
    "x = np.sin(2*np.pi*2*n*ts)\n"
   ]
  },
  {
   "cell_type": "markdown",
   "metadata": {},
   "source": [
    "Take the DFT"
   ]
  },
  {
   "cell_type": "code",
   "execution_count": null,
   "metadata": {},
   "outputs": [],
   "source": [
    "X, f = DFT(x,N,fs)\n",
    "print('X[m]',X)\n",
    "print('f',f)\n"
   ]
  },
  {
   "cell_type": "markdown",
   "metadata": {},
   "source": [
    "As can be seen the result is complex. We can plot the magnitude of the response."
   ]
  },
  {
   "cell_type": "code",
   "execution_count": null,
   "metadata": {},
   "outputs": [],
   "source": [
    "fig, ax = plt.subplots()\n",
    "ax.plot(f,np.abs(X),'o')\n",
    "ax.set_xlabel('Frequency (Hz)')\n",
    "ax.set_ylabel('Magnitude')\n",
    "plt.show()"
   ]
  },
  {
   "cell_type": "markdown",
   "metadata": {},
   "source": [
    "Now try you own version by changing the number of points, sampling frequency, etc.\n",
    "\n",
    "### How fast does the DFT run?\n",
    "We now make a swept cosine signal"
   ]
  },
  {
   "cell_type": "code",
   "execution_count": null,
   "metadata": {},
   "outputs": [],
   "source": [
    "N = 2**13\n",
    "fs = 200 # Hz\n",
    "ts = 1/fs\n",
    "n = np.arange(0,N,1) # number of steps in the discrete series\n",
    "t = n*ts # The time points to evaluate the swept cosine, length N\n",
    "x = signal.sweep_poly(t,[0.02,0.04]) # The swept cosine\n",
    "\n",
    "fig, ax = plt.subplots()\n",
    "ax.plot(t,x,'.')\n",
    "ax.set_xlabel('Time (s)')\n",
    "ax.set_ylabel('Amplitude')\n",
    "plt.show()\n"
   ]
  },
  {
   "cell_type": "markdown",
   "metadata": {},
   "source": [
    "Time the DFT"
   ]
  },
  {
   "cell_type": "code",
   "execution_count": null,
   "metadata": {},
   "outputs": [],
   "source": [
    "start = time.process_time()\n",
    "X, f = DFT(x,N,fs)\n",
    "end = time.process_time()\n",
    "print('Run time (s):', end-start)"
   ]
  },
  {
   "cell_type": "markdown",
   "metadata": {},
   "source": [
    "Which is not very fast.\n",
    "The results look like this"
   ]
  },
  {
   "cell_type": "code",
   "execution_count": null,
   "metadata": {},
   "outputs": [],
   "source": [
    "fig, ax = plt.subplots()\n",
    "ax.plot(f,np.abs(X),'o')\n",
    "ax.set_xlabel('Frequency (Hz)')\n",
    "ax.set_ylabel('Magnitude')\n",
    "plt.show()"
   ]
  },
  {
   "cell_type": "markdown",
   "metadata": {},
   "source": [
    "What can we do to speed up the process?\n",
    "\n",
    "### FFT"
   ]
  },
  {
   "cell_type": "code",
   "execution_count": null,
   "metadata": {},
   "outputs": [],
   "source": [
    "start = time.process_time()\n",
    "X_fft = np.fft.fft(x, norm='ortho')        # FFT\n",
    "end = time.process_time()\n",
    "print('Run time (s):',end-start)"
   ]
  },
  {
   "cell_type": "code",
   "execution_count": null,
   "metadata": {},
   "outputs": [],
   "source": [
    "f = np.fft.fftfreq(N,1/fs)\n",
    "\n",
    "fig, ax = plt.subplots()\n",
    "ax.plot(f,np.abs(X_fft),'o')\n",
    "ax.set_xlabel('Frequency (Hz)')\n",
    "ax.set_ylabel('Magnitude')\n",
    "plt.show()"
   ]
  },
  {
   "cell_type": "markdown",
   "metadata": {},
   "source": [
    "The FFT function in numpy handles $N\\neq2^b$, but then it is calculating the DFT with a less efficient algorithm, so we can try to time it with $N'=N-1$ and see the difference in time"
   ]
  },
  {
   "cell_type": "code",
   "execution_count": null,
   "metadata": {},
   "outputs": [],
   "source": [
    "start = time.process_time()\n",
    "X_fft = np.fft.fft(x[:-1], norm='ortho')        \n",
    "end = time.process_time()\n",
    "print('Run time (s):',end-start)"
   ]
  },
  {
   "cell_type": "code",
   "execution_count": null,
   "metadata": {},
   "outputs": [],
   "source": []
  }
 ],
 "metadata": {
  "kernelspec": {
   "display_name": "Python 3 (ipykernel)",
   "language": "python",
   "name": "python3"
  },
  "language_info": {
   "codemirror_mode": {
    "name": "ipython",
    "version": 3
   },
   "file_extension": ".py",
   "mimetype": "text/x-python",
   "name": "python",
   "nbconvert_exporter": "python",
   "pygments_lexer": "ipython3"
  }
 },
 "nbformat": 4,
 "nbformat_minor": 4
}

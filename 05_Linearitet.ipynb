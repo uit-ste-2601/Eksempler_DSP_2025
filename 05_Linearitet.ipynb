{
 "cells": [
  {
   "cell_type": "markdown",
   "metadata": {},
   "source": [
    "# Er funksjonen lineær "
   ]
  },
  {
   "cell_type": "code",
   "execution_count": null,
   "metadata": {},
   "outputs": [],
   "source": [
    "%matplotlib widget\n",
    "import numpy as np\n",
    "import matplotlib.pyplot as plt"
   ]
  },
  {
   "cell_type": "markdown",
   "metadata": {},
   "source": [
    "Vi har i timene sett på lineære signaler og lært hvordan vi kan regne ut \n",
    "matematisk om funksjonen er lineær. Hvis funksjonen var lineær hadde vi\n",
    "$$\n",
    "T(\\alpha x_1[n] + \\beta x_2[n]) = \\alpha y_1[n] + \\beta y_2[n]\n",
    "$$\n",
    "\n",
    "Her skal vi plotte slike systemer og se hva det vil si grafisk. \n",
    "\n",
    "## Signalet\n",
    "Først må vi lage et signal $x[n]$. Her må du finne en funksjon du ønsker"
   ]
  },
  {
   "cell_type": "code",
   "execution_count": null,
   "metadata": {},
   "outputs": [],
   "source": [
    "\n",
    "def signal(n, f0, phi, fs):\n",
    "    '''\n",
    "    Signalet\n",
    "    \n",
    "    Parameters\n",
    "    ----------\n",
    "    n : int or numpy array of ints\n",
    "        The point(s) to evaluate the function on\n",
    "\n",
    "    f0: float\n",
    "        The frequency of the function\n",
    "\n",
    "    phi: float\n",
    "        The phase shift\n",
    "\n",
    "    fs: float\n",
    "        The sampling frequency\n",
    "    \n",
    "    Returns\n",
    "    ----------\n",
    "    x: float or numpy array of floats\n",
    "        The signal evaluated in n\n",
    "    '''\n",
    "    \n",
    "    x = # Her er der du skriver funksjonen din\n",
    "    # cos = np.cos()\n",
    "    # sin = np.sin()\n",
    "    # pi = np.pi\n",
    "    # exp = np.exp()\n",
    "\n",
    "    return x\n",
    "\n"
   ]
  },
  {
   "cell_type": "markdown",
   "metadata": {},
   "source": [
    "Nå som du har definert en funksjon for et signal, kan vi definere et system\n",
    "$$\n",
    "y[n] = T(x[n])\n",
    "$$"
   ]
  },
  {
   "cell_type": "code",
   "execution_count": null,
   "metadata": {},
   "outputs": [],
   "source": [
    "def y_system(x):\n",
    "    '''\n",
    "    Det diskret systemet\n",
    "    \n",
    "    Parameters\n",
    "    ----------\n",
    "    x: numpy array of floats\n",
    "        Signalet som vi vil evaluere systemet på\n",
    "    \n",
    "    Returns\n",
    "    ----------\n",
    "    y: Den diskret utgangen fra systemet\n",
    "    '''\n",
    "    y = # systemet\n",
    "    return y"
   ]
  },
  {
   "cell_type": "markdown",
   "metadata": {},
   "source": [
    "Nå har vi både definert funksjonene for signalet og systemet. Da gjenstår det \n",
    "bare å regne ut to forskjellige signaler, og regne output."
   ]
  },
  {
   "cell_type": "code",
   "execution_count": null,
   "metadata": {},
   "outputs": [],
   "source": [
    "n = np.arange(0,100) # Vi går fra n = 0 til 99 \n",
    "fs = # Samplingsfrekvens\n",
    "\n",
    "\n",
    "x1 = signal(n, f0=, phi=, fs=fs)\n",
    "x2 = signal(n, f0=, phi=, fs=fs)\n",
    "\n",
    "\n",
    "y1 = y_system(x1) \n",
    "y2 = y_system(x2) \n"
   ]
  },
  {
   "cell_type": "markdown",
   "metadata": {},
   "source": [
    "Nå har vi definert $x_1[n]$ og $x_2[n]$, og regnet ut $y_1[n]$ og $y_2[n]$.\n",
    "Dermed gjenstår det bare å regne ut\n",
    "$$\n",
    "\\begin{align}\n",
    "    x_3[n] &= \\alpha x_1[n] + \\beta x_2[n]\\\\\n",
    "    y_3[n] &= \\alpha y_1[n] + \\beta y_2[n]\\\\\n",
    "    T(x_3[n])\n",
    "\\end{align}\n",
    "$$\n",
    "For å gjøre dette må vi først sette en $\\alpha$ og en $\\beta$"
   ]
  },
  {
   "cell_type": "code",
   "execution_count": null,
   "metadata": {},
   "outputs": [],
   "source": [
    "alpha =\n",
    "beta = "
   ]
  },
  {
   "cell_type": "markdown",
   "metadata": {},
   "source": [
    "Da kan vi regne de ut"
   ]
  },
  {
   "cell_type": "code",
   "execution_count": null,
   "metadata": {},
   "outputs": [],
   "source": [
    "x3 = \n",
    "y3 = \n",
    "T = "
   ]
  },
  {
   "cell_type": "markdown",
   "metadata": {},
   "source": [
    "Når alt er fylt ut, så kan vi plotte resultetet "
   ]
  },
  {
   "cell_type": "code",
   "execution_count": null,
   "metadata": {},
   "outputs": [],
   "source": [
    "fig, axs = plt.subplots(4, 2,  figsize=(10, 6), sharex=True, sharey=True, constrained_layout=True)\n",
    "axs[0,0].plot(n,x1,'.')\n",
    "axs[0,0].set_title('x1[n]')\n",
    "\n",
    "axs[0,1].plot(n,y1,'.')\n",
    "axs[0,1].set_title('y1[n]')\n",
    "\n",
    "axs[1,0].plot(n,x2,'.')\n",
    "axs[1,0].set_title('x2[n]')\n",
    "\n",
    "axs[1,1].plot(n,y2,'.')\n",
    "axs[1,1].set_title('y2[n]')\n",
    "\n",
    "axs[2,0].plot(n,x3,'.')\n",
    "axs[2,0].set_title('x3[n]')\n",
    "\n",
    "axs[2,1].plot(n,y3,'.')\n",
    "axs[2,1].set_title('y3[n]')\n",
    "\n",
    "axs[3,0].plot(n,T,'.')\n",
    "axs[3,0].set_title('T(x3[n])')\n",
    "\n",
    "axs[3,1].plot(n,T-y3,'.')\n",
    "axs[3,1].plot(n,T*0,'-r')\n",
    "axs[3,1].set_title('T(x3[n])-y3[n], Rød = 0')\n"
   ]
  },
  {
   "cell_type": "code",
   "execution_count": null,
   "metadata": {},
   "outputs": [],
   "source": []
  }
 ],
 "metadata": {
  "kernelspec": {
   "display_name": "Python 3 (ipykernel)",
   "language": "python",
   "name": "python3"
  },
  "language_info": {
   "codemirror_mode": {
    "name": "ipython",
    "version": 3
   },
   "file_extension": ".py",
   "mimetype": "text/x-python",
   "name": "python",
   "nbconvert_exporter": "python",
   "pygments_lexer": "ipython3"
  }
 },
 "nbformat": 4,
 "nbformat_minor": 4
}

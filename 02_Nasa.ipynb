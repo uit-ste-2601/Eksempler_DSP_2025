{
 "cells": [
  {
   "cell_type": "markdown",
   "metadata": {},
   "source": [
    "# Filtering an audio file\n",
    "\n",
    "In this example we are going to take a look at how to\n",
    "filter away background noise in a sound file.\n",
    "\n",
    "### Parameters\n",
    "First we set up\n",
    "the parameters:"
   ]
  },
  {
   "cell_type": "code",
   "execution_count": null,
   "metadata": {},
   "outputs": [],
   "source": [
    "%matplotlib widget\n",
    "import numpy as np\n",
    "import matplotlib.pyplot as plt\n",
    "from scipy.io import wavfile    # For opening the sound file\n",
    "from scipy import signal      # For the signal processing\n",
    "import IPython                  # For playing the sound file\n",
    "# plt.rcParams['figure.figsize'] = [10, 5] # Larger figures\n"
   ]
  },
  {
   "cell_type": "markdown",
   "metadata": {},
   "source": [
    "### Listing to the signal"
   ]
  },
  {
   "cell_type": "code",
   "execution_count": null,
   "metadata": {},
   "outputs": [],
   "source": [
    "nasa = 'apollo11_launch.wav'\n",
    "IPython.display.Audio(nasa)\n",
    "    "
   ]
  },
  {
   "cell_type": "markdown",
   "metadata": {},
   "source": [
    "### Goal\n",
    "\n",
    "The goal is to reduce the background noise\n",
    "\n",
    "### Reading the signal"
   ]
  },
  {
   "cell_type": "code",
   "execution_count": null,
   "metadata": {},
   "outputs": [],
   "source": [
    "rate, data = wavfile.read(nasa) # rate is the sample rate used in the sound file, which for this file is 44 100 Hz\n",
    "data = data[:,0] # We are only using one channel\n",
    "\n",
    "t = np.arange(0,len(data)/rate,1/rate)\n",
    "plt.figure()\n",
    "plt.plot(t,data,linewidth=0.2)\n",
    "plt.xlabel('Time (s)')\n",
    "plt.ylabel('Amplitude')\n",
    "plt.tight_layout()"
   ]
  },
  {
   "cell_type": "markdown",
   "metadata": {},
   "source": [
    "### Taking the FFT"
   ]
  },
  {
   "cell_type": "code",
   "execution_count": null,
   "metadata": {},
   "outputs": [],
   "source": [
    "Nfft = 2**14  # Number of points in FFT\n",
    "X_1 = (1/(2*rate)) * np.fft.fftshift(np.fft.fft(data, n=Nfft))        # FFT\n",
    "f = np.arange(-Nfft/2, (Nfft/2))*rate/Nfft            # frequency scale\n",
    "m = np.abs(X_1)\n",
    "\n",
    "plt.figure()\n",
    "plt.plot(f, 20*m,'-')\n",
    "plt.xlim(0,2000)\n",
    "#plt.axis((-500, 500, 0, 11))\n",
    "plt.grid()\n",
    "plt.xlabel('Frequency (Hz)')\n",
    "plt.ylabel('Magnitude')\n",
    "plt.title('Complex magnitude spectrum')\n",
    "plt.show()"
   ]
  },
  {
   "cell_type": "markdown",
   "metadata": {},
   "source": [
    "### Finding the frequencies \n",
    "We will take STFT of the data to be able to plot\n",
    "the spectrogram"
   ]
  },
  {
   "cell_type": "code",
   "execution_count": null,
   "metadata": {},
   "outputs": [],
   "source": [
    "N=1024\n",
    "\n",
    "F, T, Sxx = signal.stft(data, fs=rate, nperseg=N,noverlap=N/2,window=signal.get_window('hann',N), padded=False, boundary=None)"
   ]
  },
  {
   "cell_type": "markdown",
   "metadata": {},
   "source": [
    "We now plot the spectrogram on dB scale"
   ]
  },
  {
   "cell_type": "code",
   "execution_count": null,
   "metadata": {},
   "outputs": [],
   "source": [
    "Sxx[Sxx==0]=1e-14    # Replace zero with something small as we are going to take the logarithm\n",
    "M=20 * np.log10( np.abs(Sxx))\n",
    "\n",
    "plt.figure()\n",
    "plt.pcolormesh(T,F,M,vmin=-10,shading='auto') # Plot with minimum set at -10 dB\n",
    "plt.ylabel('Frequency [Hz]')\n",
    "plt.xlabel('Time [sec]')\n",
    "plt.ylim(0,6000) # The wav only contains frequencies up to 6 000 Hz\n",
    "\n",
    "cbar=plt.colorbar()\n",
    "cbar.set_label('Magnitude (dB)')\n",
    "plt.tight_layout()\n",
    "plt.show()"
   ]
  },
  {
   "cell_type": "markdown",
   "metadata": {},
   "source": [
    "## Filter the signal \n",
    "\n",
    "We now design a FIR high pass filter based on a hanning\n",
    "window, dampening of 60 dB and pass above 400 Hz"
   ]
  },
  {
   "cell_type": "code",
   "execution_count": null,
   "metadata": {},
   "outputs": [],
   "source": [
    "taps = signal.firwin(301, cutoff = 400, window = \"hann\",fs=rate, pass_zero=False)\n",
    "nyq_rate=rate/2\n",
    "\n",
    "plt.figure()\n",
    "\n",
    "# Plot the frequency response of the filter\n",
    "w, h = signal.freqz(taps, worN=2048)\n",
    "plt.plot((w/np.pi)*nyq_rate, 20*np.log10(np.abs(h)), linewidth=2)\n",
    "plt.xlabel('Frequency (Hz)')\n",
    "plt.ylabel('Gain (dB)')\n",
    "plt.title('Frequency Response')\n",
    "plt.xlim(0,1000)\n",
    "plt.grid(True)\n"
   ]
  },
  {
   "cell_type": "markdown",
   "metadata": {},
   "source": [
    "We now apply this filter to the audio with some added zeros at the start to\n",
    "start the filter off"
   ]
  },
  {
   "cell_type": "code",
   "execution_count": null,
   "metadata": {},
   "outputs": [],
   "source": [
    "NN=2000\n",
    "dataZ=np.zeros(len(data)+NN)\n",
    "dataZ[NN-1:-1]=data\n",
    "filtered = signal.convolve(dataZ,taps,mode='valid')\n",
    "# Remove the zeros\n",
    "filtered = filtered[NN-len(taps):-1]\n",
    "plt.figure()\n",
    "plt.plot(t,filtered,linewidth=0.2)\n",
    "plt.xlabel('Time (s)')\n",
    "plt.ylabel('Amplitude')\n",
    "plt.tight_layout()\n",
    "plt.show()"
   ]
  },
  {
   "cell_type": "markdown",
   "metadata": {},
   "source": [
    "The resulting filtered audio"
   ]
  },
  {
   "cell_type": "code",
   "execution_count": null,
   "metadata": {},
   "outputs": [],
   "source": [
    "IPython.display.Audio(filtered,rate=rate)\n"
   ]
  },
  {
   "cell_type": "markdown",
   "metadata": {},
   "source": [
    "The original"
   ]
  },
  {
   "cell_type": "code",
   "execution_count": null,
   "metadata": {},
   "outputs": [],
   "source": [
    "IPython.display.Audio(nasa)\n"
   ]
  },
  {
   "cell_type": "code",
   "execution_count": null,
   "metadata": {},
   "outputs": [],
   "source": [
    "N=1024\n",
    "\n",
    "FF, TF, SxxF = signal.stft(filtered, fs=rate, nperseg=N,noverlap=N/2,window=signal.get_window('hann',N), padded=False, boundary=None)\n",
    "SxxF[SxxF==0]=1e-14    # Replace zero with something small as we are going to take the logarithm\n",
    "MF=20 * np.log10( np.abs(SxxF))\n",
    "\n",
    "plt.figure()\n",
    "plt.pcolormesh(TF,FF,MF,vmin=-10,shading='auto') # Plot with minimum set at -10 dB\n",
    "plt.ylabel('Frequency [Hz]')\n",
    "plt.xlabel('Time [sec]')\n",
    "plt.ylim(0,6000) # The wav only contains frequencies up to 6 000 Hz\n",
    "\n",
    "cbar=plt.colorbar()\n",
    "cbar.set_label('Magnitude (dB)')\n",
    "plt.tight_layout()\n",
    "plt.show()"
   ]
  }
 ],
 "metadata": {
  "kernelspec": {
   "display_name": "Python 3 (ipykernel)",
   "language": "python",
   "name": "python3"
  },
  "language_info": {
   "codemirror_mode": {
    "name": "ipython",
    "version": 3
   },
   "file_extension": ".py",
   "mimetype": "text/x-python",
   "name": "python",
   "nbconvert_exporter": "python",
   "pygments_lexer": "ipython3"
  }
 },
 "nbformat": 4,
 "nbformat_minor": 4
}

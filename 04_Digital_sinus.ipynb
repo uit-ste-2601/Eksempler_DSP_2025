{
 "cells": [
  {
   "cell_type": "markdown",
   "metadata": {},
   "source": [
    "# Digitale sinuser\n",
    "\n",
    "Vi skal her se på hva som skjer når vi konverterer analoge\n",
    "signaler til digitale"
   ]
  },
  {
   "cell_type": "code",
   "execution_count": null,
   "metadata": {},
   "outputs": [],
   "source": [
    "%matplotlib widget\n",
    "from ipywidgets import *\n",
    "import numpy as np\n",
    "import matplotlib.pyplot as plt"
   ]
  },
  {
   "cell_type": "code",
   "execution_count": null,
   "metadata": {},
   "outputs": [],
   "source": [
    "t_min = 0  # start (s)\n",
    "t_max = 5  # slutt (s)\n",
    "\n",
    "\n",
    "t = np.arange(t_min, t_max, 0.01)  # For kontinuerlig\n",
    "\n",
    "\n",
    "fig, ax = plt.subplots(2, 1, figsize=[8, 5])\n",
    "\n",
    "# For den kontinuerlige sinusen\n",
    "\n",
    "\n",
    "def sin_cont(f=1, phi=0):\n",
    "    return np.sin(f*t*2*np.pi+phi*np.pi/180)\n",
    "\n",
    "# For den digitale sinusen\n",
    "\n",
    "\n",
    "def sin_dig(f=1,kvantisering=8, fs=20, phi=0):\n",
    "    N = np.arange(0, t_max*fs, 1)  # Akse for samples\n",
    "    return N, np.around(np.sin(f*2*np.pi*N/fs+phi*np.pi/180)*kvantisering, 0)/kvantisering\n",
    "\n",
    "\n",
    "line0, = ax[0].plot(t, sin_cont())\n",
    "\n",
    "N, x_n = sin_dig()\n",
    "line1, = ax[1].plot(N, x_n, 'o', markerfacecolor='orange')\n",
    "\n",
    "# Oppsett av akser\n",
    "ax[0].set_xlabel('Tid (s)')\n",
    "ax[0].set_ylabel('x(t)')\n",
    "ax[0].grid()\n",
    "ax[0].set_xlim([0, t_max])\n",
    "\n",
    "ax[1].set_xlabel('Tid (n)')\n",
    "ax[1].set_ylabel('x[n]')\n",
    "ax[1].grid()\n",
    "\n",
    "\n",
    "# Funksjon for å oppdatere figuren\n",
    "\n",
    "\n",
    "def update(frekvens=1, kvantisering=8, fs=20, phi=0):\n",
    "    line0.set_ydata(sin_cont(frekvens, phi))\n",
    "\n",
    "    N, x_n = sin_dig(frekvens, kvantisering, fs, phi)\n",
    "    line1.set_ydata(x_n)\n",
    "    line1.set_xdata(N)\n",
    "    ax[1].set_xlim([0, np.max(N)])\n",
    "\n",
    "    fig.canvas.draw_idle()\n",
    "\n",
    "\n",
    "# Lag en interaktiv figur\n",
    "i = interact(update, frekvens=(0.25, 5, 0.25), kvantisering=(\n",
    "    2, 20, 1), ts=(2, 50, 2), phi=(0, 360, 30))"
   ]
  },
  {
   "cell_type": "markdown",
   "metadata": {},
   "source": [
    "* `frekvens` er i Hz\n",
    "* `kvantisering` er antall steg +1 mellom 0 og 1 i A/D\n",
    "omformere. $(2\\times \\text{kvantisering}+1)$  så mange en  mellom -1 og 1.\n",
    "Oppløsningen blir 1/`kvantisering`\n",
    "* `ts` er samplingsfrekvensen i Hz\n",
    "* `phi`er\n",
    "faseskiftet i grader"
   ]
  },
  {
   "cell_type": "code",
   "execution_count": null,
   "metadata": {},
   "outputs": [],
   "source": []
  }
 ],
 "metadata": {
  "kernelspec": {
   "display_name": "Python 3 (ipykernel)",
   "language": "python",
   "name": "python3"
  },
  "language_info": {
   "codemirror_mode": {
    "name": "ipython",
    "version": 3
   },
   "file_extension": ".py",
   "mimetype": "text/x-python",
   "name": "python",
   "nbconvert_exporter": "python",
   "pygments_lexer": "ipython3"
  }
 },
 "nbformat": 4,
 "nbformat_minor": 4
}

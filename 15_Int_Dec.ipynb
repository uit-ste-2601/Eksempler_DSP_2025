{
 "cells": [
  {
   "cell_type": "markdown",
   "metadata": {},
   "source": [
    "# Filtering a signal\n",
    "\n",
    "In this notebook we are going to look at how interpolation and decimation works.\n",
    "\n",
    "## Interpolation\n",
    "The signal we are going to interpolate is going to be a sampled version of  \n",
    "$$\n",
    "\\begin{align*}\n",
    "    x(t)&=\\sin(2\\pi f_1 t + \\phi) \n",
    "\\end{align*}\n",
    "$$\n",
    "where $f_1$ is the frequency. "
   ]
  },
  {
   "cell_type": "markdown",
   "metadata": {},
   "source": [
    "First we do the imports"
   ]
  },
  {
   "cell_type": "code",
   "execution_count": null,
   "metadata": {},
   "outputs": [],
   "source": [
    "%matplotlib widget\n",
    "import numpy as np\n",
    "import matplotlib.pyplot as plt\n",
    "import scipy.signal as signal\n",
    "plt.rcParams['figure.figsize'] = (6.0, 3)\n"
   ]
  },
  {
   "cell_type": "markdown",
   "metadata": {},
   "source": [
    "We now implement the signal and sample it.\n",
    "The parameters we are using are:\n",
    "$$\n",
    "\\begin{align*}\n",
    "    f_1&=50~\\text{Hz}\\\\\n",
    "    f_s&=800~\\text{Hz}\\\\\n",
    "    N &= 256\n",
    "\\end{align*}\n",
    "$$"
   ]
  },
  {
   "cell_type": "code",
   "execution_count": null,
   "metadata": {},
   "outputs": [],
   "source": [
    "N = 256 \n",
    "fs = 800 # Hz\n",
    "f1 = 50 # Hz\n",
    "phi = np.pi/5.3\n",
    "\n",
    "ts = 1/fs # s\n",
    "n = np.arange(0,N,1)\n",
    "\n",
    "x = np.sin(2*np.pi*f1*n*ts+phi) \n",
    "\n",
    "plt.figure(1)\n",
    "plt.clf()\n",
    "plt.plot(n,x,'--.')\n",
    "plt.xlabel('$n$')\n",
    "plt.ylabel('$x[n]$')\n",
    "plt.xlim([0,100]) # Only show the first 100 samples\n",
    "plt.grid()\n",
    "plt.tight_layout()\n",
    "plt.show()"
   ]
  },
  {
   "cell_type": "markdown",
   "metadata": {},
   "source": [
    "## Interpolating with a factor of 4\n",
    "\n",
    "We are now going to interpolate the signal with a factor of $L=4$\n",
    "The implementation her will be the direct one, though we could use the *scipy.signal* method *upfirdn*  https://docs.scipy.org/doc/scipy/reference/generated/scipy.signal.upfirdn.html#scipy.signal.upfirdn \n",
    "\n",
    "or the *scipy.signal.resample* method"
   ]
  },
  {
   "cell_type": "markdown",
   "metadata": {},
   "source": [
    "### Insert the zeros and plot the fft"
   ]
  },
  {
   "cell_type": "code",
   "execution_count": null,
   "metadata": {},
   "outputs": [],
   "source": [
    "L = 4\n",
    "NL = N*L\n",
    "# Make the new array\n",
    "xl = np.zeros(NL)\n",
    "xl[0::L]=x\n",
    "fsl = fs * L # The new fs \n",
    "\n",
    "plt.figure(11)\n",
    "plt.clf()\n",
    "# Plot the frequency response of the filter\n",
    "plt.plot(np.arange(NL)*fsl/N, np.abs(np.fft.fft(xl)),'--.')\n",
    "plt.xlabel('Frequency (Hz)')\n",
    "plt.ylabel('Magnitude')\n",
    "plt.title('FFT of xl')\n",
    "plt.grid()\n",
    "plt.tight_layout()\n",
    "plt.show()"
   ]
  },
  {
   "cell_type": "markdown",
   "metadata": {},
   "source": [
    "### Make the lowpass filter"
   ]
  },
  {
   "cell_type": "code",
   "execution_count": null,
   "metadata": {},
   "outputs": [],
   "source": [
    "att =60 #dB, the dampening in the stopband\n",
    "cutoff =fs/2-50  # The cutoff frequency in Hz\n",
    "stop = fs/2+50# Desired stopband start frequency, \n",
    "\n",
    "Nt =  att/(22*(stop/fsl-cutoff/fsl))  # The number of taps \n",
    "Nt = int(np.ceil(Nt)) # Round up number of taps (coefficients)\n",
    "if Nt%2==0: # Vi må ha et odde antall\n",
    "    Nt = Nt+1\n",
    "h = signal.remez(Nt, [0, cutoff, stop, 0.5*fsl], [1, 0], fs=fsl)\n",
    "plt.figure(2)\n",
    "plt.clf()\n",
    "plt.plot(h,'.')\n",
    "plt.show()\n",
    "display(cutoff)\n",
    "display(Nt)"
   ]
  },
  {
   "cell_type": "markdown",
   "metadata": {},
   "source": [
    "We now plot the frequency response of the filter"
   ]
  },
  {
   "cell_type": "code",
   "execution_count": null,
   "metadata": {},
   "outputs": [],
   "source": [
    "plt.figure(3)\n",
    "plt.clf()\n",
    "# Plot the frequency response of the filter\n",
    "w, H = signal.freqz(h, worN=NL)\n",
    "plt.plot(0.5*fsl*w/np.pi, 20*np.log10(np.abs(H)), linewidth=2)\n",
    "plt.xlabel('Frequency (Hz)')\n",
    "plt.ylabel('Gain (dB)')\n",
    "plt.title('Frequency Response')\n",
    "plt.grid()\n",
    "plt.tight_layout()\n",
    "plt.show()"
   ]
  },
  {
   "cell_type": "markdown",
   "metadata": {},
   "source": [
    "## Using the filter \n"
   ]
  },
  {
   "cell_type": "code",
   "execution_count": null,
   "metadata": {},
   "outputs": [],
   "source": [
    "y = signal.convolve(xl, h, mode='valid') # Convolving the filter coefficients and the signal\n",
    "\n",
    "# Amplify it\n",
    "ya = y*L\n",
    "\n",
    "# Make the time-axes \n",
    "# For y we need to shift the output samples such that they come at the expected time. \n",
    "#  This is done by shifting with the delay G = D*ts/2\n",
    "tsy = ts/L\n",
    "ty = (np.arange(len(ya))*ts + (Nt-1)*ts/2) / L\n",
    "\n",
    "tx = n*ts\n",
    "# Plotting the result\n",
    "plt.figure(4)\n",
    "plt.clf()\n",
    "plt.plot(ty, ya,'--.',color='blue')\n",
    "plt.plot(tx,x,'--.',color='red')\n",
    "plt.xlabel('Tid (s)')\n",
    "plt.ylabel('Amplitude')\n",
    "plt.legend(['Interpolated', 'Original'])\n",
    "plt.tight_layout()\n",
    "plt.show()\n",
    "\n",
    "\n",
    "# Plot the DFT\n",
    "plt.figure(5)\n",
    "plt.clf()\n",
    "Y = np.fft.fft(ya)\n",
    "plt.plot(np.arange(len(ya))*fsl/len(ya),np.abs(Y),'-o')\n",
    "plt.xlabel('$f$ (Hz)')\n",
    "plt.ylabel('Magnitude')\n",
    "plt.xlim([0,fsl/2]) # Only showing half the plot\n",
    "plt.grid()\n",
    "plt.tight_layout()\n",
    "plt.show()\n"
   ]
  },
  {
   "cell_type": "markdown",
   "metadata": {},
   "source": [
    "## Decimation \n",
    "\n",
    "First we set the factor and make the filter"
   ]
  },
  {
   "cell_type": "code",
   "execution_count": null,
   "metadata": {},
   "outputs": [],
   "source": [
    "M = 4 \n",
    "NM = N//M\n",
    "fsm = fs/M\n",
    "att = 60 #dB, the dampening in the stopband\n",
    "cutoff =fsm/2-50  # The cutoff frequency in Hz\n",
    "stop = fsm/2+50# Desired stopband start frequency, \n",
    "Ntm =  att/(22*(stop/fs-cutoff/fs))  # The number of taps \n",
    "Ntm = int(np.ceil(Ntm)) # Round up number of taps (coefficients)\n",
    "if Ntm%2==0: # Vi må ha et odde antall\n",
    "    Ntm = Ntm+1\n",
    "display('Number of filter coefficients:', Ntm)\n",
    "h = signal.remez(Ntm, [0, cutoff, stop, 0.5*fs], [1, 0], fs=fs)"
   ]
  },
  {
   "cell_type": "markdown",
   "metadata": {},
   "source": [
    "We now plot the frequency response of the filter"
   ]
  },
  {
   "cell_type": "code",
   "execution_count": null,
   "metadata": {},
   "outputs": [],
   "source": [
    "plt.figure(6)\n",
    "plt.clf()\n",
    "# Plot the frequency response of the filter\n",
    "w, H = signal.freqz(h, worN=N)\n",
    "plt.plot(0.5*fs*w/np.pi, 20*np.log10(np.abs(H)), linewidth=2)\n",
    "plt.xlabel('Frequency (Hz)')\n",
    "plt.ylabel('Gain (dB)')\n",
    "plt.title('Frequency Response')\n",
    "plt.grid()\n",
    "plt.tight_layout()\n",
    "plt.show()"
   ]
  },
  {
   "cell_type": "markdown",
   "metadata": {},
   "source": [
    "We now apply the filter and remove the samples  "
   ]
  },
  {
   "cell_type": "code",
   "execution_count": null,
   "metadata": {},
   "outputs": [],
   "source": [
    "ytmp = signal.convolve(x, h, mode='valid') # Convolving the filter coefficients and the signal\n",
    "\n",
    "yM = ytmp[0::M] # Taking out every Mt sample"
   ]
  },
  {
   "cell_type": "markdown",
   "metadata": {},
   "source": [
    "Plotting the result"
   ]
  },
  {
   "cell_type": "code",
   "execution_count": null,
   "metadata": {},
   "outputs": [],
   "source": [
    "# Make the time-axes \n",
    "# For y we need to shift the output samples such that they come at the expected time. \n",
    "# This is done by shifting with the delay G = D*ts/2\n",
    "tym = np.arange(len(yM))*ts*M + (Ntm-1)*ts/(2)\n",
    "\n",
    "tx = n*ts\n",
    "# Plotting the result\n",
    "plt.figure(7)\n",
    "plt.clf()\n",
    "plt.plot(tym, yM,'--.',color='blue')\n",
    "plt.plot(tx, x,'--.',color='red')\n",
    "plt.xlabel('Tid (s)')\n",
    "plt.ylabel('Amplitude')\n",
    "plt.legend(['Decimated', 'Original'])\n",
    "plt.tight_layout()\n",
    "plt.show()\n",
    "\n",
    "\n",
    "# Plot the DFT\n",
    "plt.figure(8)\n",
    "plt.clf()\n",
    "Y = np.fft.fft(yM, NM)\n",
    "plt.plot(np.arange(0,NM)*fsm/NM, np.abs(Y),'-o')\n",
    "plt.xlabel('$f$ (Hz)')\n",
    "plt.ylabel('Magnitude')\n",
    "plt.xlim([0,fsm/2]) # Only showing half the plot\n",
    "plt.grid()\n",
    "plt.tight_layout()\n",
    "plt.show()\n"
   ]
  }
 ],
 "metadata": {
  "anaconda-cloud": {},
  "kernelspec": {
   "display_name": "Python 3 (ipykernel)",
   "language": "python",
   "name": "python3"
  },
  "language_info": {
   "codemirror_mode": {
    "name": "ipython",
    "version": 3
   },
   "file_extension": ".py",
   "mimetype": "text/x-python",
   "name": "python",
   "nbconvert_exporter": "python",
   "pygments_lexer": "ipython3"
  }
 },
 "nbformat": 4,
 "nbformat_minor": 4
}

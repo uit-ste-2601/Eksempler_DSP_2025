{
 "cells": [
  {
   "cell_type": "markdown",
   "metadata": {},
   "source": [
    "### Parks MacClellan (Optimum) FIR filter design\n",
    "\n",
    "This example is mostely taken from the documentation of the scipy function:\n",
    "\n",
    "https://docs.scipy.org/doc/scipy/reference/generated/scipy.signal.remez.html"
   ]
  },
  {
   "cell_type": "code",
   "execution_count": null,
   "metadata": {},
   "outputs": [],
   "source": [
    "%matplotlib widget\n",
    "from scipy import signal\n",
    "import matplotlib.pyplot as plt\n",
    "import numpy as np\n",
    "plt.rcParams['figure.figsize'] = (6.0, 4)\n",
    "\n",
    "def plot_response(fs, w, h, title):\n",
    "    \"Utility function to plot response functions\"\n",
    "    fig = plt.figure()\n",
    "    ax = fig.add_subplot(111)\n",
    "    ax.plot(0.5*fs*w/np.pi, 20*np.log10(np.abs(h)))\n",
    "    ax.set_ylim(-40, 5)\n",
    "    ax.set_xlim(0, 0.5*fs)\n",
    "    ax.grid(True)\n",
    "    ax.set_xlabel('Frequency (Hz)')\n",
    "    ax.set_ylabel('Gain (dB)')\n",
    "    plt.tight_layout()\n",
    "    ax.set_title(title)\n",
    "    return ax"
   ]
  },
  {
   "cell_type": "markdown",
   "metadata": {},
   "source": [
    "#### Low-pass filter"
   ]
  },
  {
   "cell_type": "code",
   "execution_count": null,
   "metadata": {},
   "outputs": [],
   "source": [
    "fs = 22050.0       # Sample rate, Hz\n",
    "cutoff = 8000.0    # Desired cutoff frequency, Hz\n",
    "trans_width = 100  # Width of transition from pass band to stop band, Hz\n",
    "numtaps = 400     # Size of the FIR filter.\n",
    "taps = signal.remez(numtaps, [0, cutoff, cutoff + trans_width, 0.5*fs], [1, 0], fs=fs)\n",
    "w, h = signal.freqz(taps, [1], worN=2000)\n",
    "plot_response(fs, w, h, \"Low-pass Filter\")"
   ]
  },
  {
   "cell_type": "markdown",
   "metadata": {},
   "source": [
    "#### High-pass filter"
   ]
  },
  {
   "cell_type": "code",
   "execution_count": null,
   "metadata": {},
   "outputs": [],
   "source": [
    "fs = 22050.0       # Sample rate, Hz\n",
    "cutoff = 2000.0    # Desired cutoff frequency, Hz\n",
    "trans_width = 250  # Width of transition from pass band to stop band, Hz\n",
    "numtaps = 125      # Size of the FIR filter.\n",
    "taps = signal.remez(numtaps, [0, cutoff - trans_width, cutoff, 0.5*fs],\n",
    "                    [0, 1], Hz=fs)\n",
    "w, h = signal.freqz(taps, [1], worN=2000)\n",
    "plot_response(fs, w, h, \"High-pass Filter\")"
   ]
  },
  {
   "cell_type": "markdown",
   "metadata": {},
   "source": [
    "#### Band-pass filter"
   ]
  },
  {
   "cell_type": "code",
   "execution_count": null,
   "metadata": {},
   "outputs": [],
   "source": [
    "fs = 22000.0         # Sample rate, Hz\n",
    "band = [2000, 5000]  # Desired pass band, Hz\n",
    "trans_width = 260    # Width of transition from pass band to stop band, Hz\n",
    "\n",
    "def get_band(numtaps):\n",
    "    edges = [0, band[0] - trans_width, band[0], band[1],\n",
    "         band[1] + trans_width, 0.5*fs]\n",
    "    taps = signal.remez(numtaps, edges, [0, 1, 0], fs=fs)\n",
    "    w, h = signal.freqz(taps, [1], worN=2000)\n",
    "    return w,h\n",
    "\n",
    "taps = [10,50,150]\n",
    "w,h = get_band(taps[0])\n",
    "ax = plot_response(fs, w, h, \"Band-pass Filter\")\n",
    "w,h = get_band(taps[1])\n",
    "ax.plot(0.5*fs*w/np.pi, 20*np.log10(np.abs(h)))\n",
    "w,h = get_band(taps[2])\n",
    "ax.plot(0.5*fs*w/np.pi, 20*np.log10(np.abs(h)))\n",
    "ax.legend(['taps = '+str(taps[0]),'taps = '+str(taps[1]),'taps = '+str(taps[2])])"
   ]
  },
  {
   "cell_type": "code",
   "execution_count": null,
   "metadata": {},
   "outputs": [],
   "source": [
    "#### Band-stop filter"
   ]
  },
  {
   "cell_type": "code",
   "execution_count": null,
   "metadata": {},
   "outputs": [],
   "source": [
    "fs = 20000.0         # Sample rate, Hz\n",
    "band = [6000, 8000]  # Desired stop band, Hz\n",
    "trans_width = 200    # Width of transition from pass band to stop band, Hz\n",
    "numtaps = 175        # Size of the FIR filter.\n",
    "edges = [0, band[0] - trans_width, band[0], band[1], band[1] + trans_width, 0.5*fs]\n",
    "taps = signal.remez(numtaps, edges, [1, 0, 1], fs=fs)\n",
    "w, h = signal.freqz(taps, [1], worN=2000)\n",
    "plot_response(fs, w, h, \"Band-stop Filter\")"
   ]
  },
  {
   "cell_type": "code",
   "execution_count": null,
   "metadata": {},
   "outputs": [],
   "source": []
  },
  {
   "cell_type": "code",
   "execution_count": null,
   "metadata": {},
   "outputs": [],
   "source": []
  },
  {
   "cell_type": "code",
   "execution_count": null,
   "metadata": {},
   "outputs": [],
   "source": []
  }
 ],
 "metadata": {
  "kernelspec": {
   "display_name": "Python 3 (ipykernel)",
   "language": "python",
   "name": "python3"
  },
  "language_info": {
   "codemirror_mode": {
    "name": "ipython",
    "version": 3
   },
   "file_extension": ".py",
   "mimetype": "text/x-python",
   "name": "python",
   "nbconvert_exporter": "python",
   "pygments_lexer": "ipython3"
  }
 },
 "nbformat": 4,
 "nbformat_minor": 4
}

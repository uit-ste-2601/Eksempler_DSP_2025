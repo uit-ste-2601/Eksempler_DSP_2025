{
 "cells": [
  {
   "cell_type": "code",
   "execution_count": null,
   "metadata": {},
   "outputs": [],
   "source": [
    "%matplotlib widget\n",
    "import numpy as np\n",
    "import scipy.signal as signal\n",
    "import matplotlib.pyplot as plt\n",
    "\n",
    "fs=100 # Hz\n",
    "ts = 1/fs\n",
    "N = 100\n",
    "n = np.arange(0,N,1)\n",
    "\n",
    "# Making a square signal\n",
    "x = np.ones(N)\n",
    "x[0:int(N/2.2)]=0\n",
    "x[-int(N/2.2):]=0\n",
    "\n",
    "\n",
    "m=np.arange(0,N)\n",
    "f = m*fs/N # Calculate the frequency\n",
    "X=np.fft.fft(x,N) # Take the DFT\n",
    "\n",
    "\n",
    "fig, ax = plt.subplots(2, 1, figsize=[10, 7])\n",
    "\n",
    "# Signal\n",
    "ax[0].plot(n,x,'-')\n",
    "ax[0].set_xlabel('Tid (n)')\n",
    "ax[0].set_ylabel('Amplitude')\n",
    "#ax[0].set_ylim([0,1.1])\n",
    "\n",
    "# DFT\n",
    "line1, =ax[1].plot(f,np.abs(X),'--o',markerfacecolor='red')\n",
    "ax[1].set_xlabel('Frekvens (Hz)')\n",
    "ax[1].set_ylabel('Magnitude')\n",
    "ax[1].grid()\n",
    "\n",
    "plt.show()\n",
    "display(fig)\n"
   ]
  },
  {
   "cell_type": "code",
   "execution_count": null,
   "metadata": {},
   "outputs": [],
   "source": []
  }
 ],
 "metadata": {
  "kernelspec": {
   "display_name": "Python 3 (ipykernel)",
   "language": "python",
   "name": "python3"
  },
  "language_info": {
   "codemirror_mode": {
    "name": "ipython",
    "version": 3
   },
   "file_extension": ".py",
   "mimetype": "text/x-python",
   "name": "python",
   "nbconvert_exporter": "python",
   "pygments_lexer": "ipython3"
  }
 },
 "nbformat": 4,
 "nbformat_minor": 4
}

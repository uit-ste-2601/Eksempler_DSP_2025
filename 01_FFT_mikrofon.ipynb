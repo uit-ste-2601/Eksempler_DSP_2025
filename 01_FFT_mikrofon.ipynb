{
 "cells": [
  {
   "cell_type": "markdown",
   "id": "fe8dbc86",
   "metadata": {},
   "source": [
    "## Example live anaylsis of audio from your mic"
   ]
  },
  {
   "cell_type": "code",
   "execution_count": null,
   "id": "12394f83-03aa-4310-87b5-a714494e2268",
   "metadata": {},
   "outputs": [],
   "source": [
    "%matplotlib widget\n",
    "from ipywebrtc import AudioRecorder, CameraStream\n",
    "from matplotlib.animation import FuncAnimation\n",
    "from threading import Thread # More threads\n",
    "import io \n",
    "import matplotlib.pyplot as plt\n",
    "import numpy as np\n",
    "import scipy.signal as signal\n",
    "import scipy.fft as fft\n",
    "import time \n",
    "import sys\n",
    "import av"
   ]
  },
  {
   "cell_type": "markdown",
   "id": "e56c3332",
   "metadata": {},
   "source": [
    "### Record \n",
    "This uses your microphone and only stores it to memory.\n",
    "You have to give permission in the browser popup to take up the sound"
   ]
  },
  {
   "cell_type": "code",
   "execution_count": null,
   "id": "a34300c0-b324-4f7c-b0fd-6604a07a45ff",
   "metadata": {},
   "outputs": [],
   "source": [
    "fs = 48000 # The sampling rate\n",
    "\n",
    "camera = CameraStream(constraints={'audio': True, 'video':False, 'sampleRate':fs}) \n",
    "# We are not recoring a video, only sound, and it is not stored.\n",
    "camera.playing=False\n",
    "recorder = AudioRecorder(stream=camera, format='webm', muted=True)\n"
   ]
  },
  {
   "cell_type": "markdown",
   "id": "ee9723be",
   "metadata": {},
   "source": [
    "### Methods for recording and processing the recording\n",
    "The way we are doing the recording means that there will be some lag, and we will be processing on previous data. "
   ]
  },
  {
   "cell_type": "code",
   "execution_count": null,
   "id": "819ae33e-69fc-4231-9d92-e1109ddc5fc9",
   "metadata": {},
   "outputs": [],
   "source": [
    "# This is to start with some data\n",
    "recorder.recording = True # Start the recording\n",
    "time.sleep(1)\n",
    "recorder.recording = False # Stop the recording\n",
    "\n",
    "def record(first = True,interval = 100):\n",
    "    # Method for taking a new recording\n",
    "    recorder.recording = True # Start the recording\n",
    "    time.sleep(interval/1000)\n",
    "    recorder.recording = False # Stop the recording\n",
    "    if (len(recorder.audio.value) == 0) and first:\n",
    "        # Tryiung one more time, as there is some lag\n",
    "        return record(first=False)\n",
    "    elif (len(recorder.audio.value) == 0) and (not(first)):\n",
    "        raise RuntimeError(\"Not able to record\")\n",
    "    else: \n",
    "        # Convert the audio data  in the memmory into a NumPy array\n",
    "        container = av.open(io.BytesIO(recorder.audio.value))\n",
    "        for idx, frame in enumerate(container.decode()):\n",
    "            if idx==0:\n",
    "                audio = frame.to_ndarray()\n",
    "            else:\n",
    "                audio=np.concatenate((audio, frame.to_ndarray()),axis=1)\n",
    "        return np.squeeze(audio[0,:]), fs\n",
    "\n",
    "def process(recording, N, fs):\n",
    "    # Process the recording \n",
    "    X = fft.fftshift(fft.fft(recording, n=N)) # Taking the FFT and shifting it for display\n",
    "    f = fft.fftshift(fft.fftfreq(N, d = 1/fs)) # Calculating the returned frequencies and shifting it\n",
    "    return 20*np.log10(np.abs(X)), f\n",
    "\n",
    "\n"
   ]
  },
  {
   "cell_type": "markdown",
   "id": "eb5cddae",
   "metadata": {},
   "source": [
    "### Plotting the data"
   ]
  },
  {
   "cell_type": "code",
   "execution_count": null,
   "id": "27090596",
   "metadata": {},
   "outputs": [],
   "source": [
    "class LiveGraph:\n",
    "    def __init__(self):\n",
    "        # Getting first audio\n",
    "        self.N = 4096\n",
    "        self.audio, self.fs = record()\n",
    "        print(self.audio.shape)\n",
    "        self.X_mag, self.f = process(self.audio, self.N, self.fs)\n",
    "        print(self.fs)\n",
    "\n",
    "        # Making the figure\n",
    "        self.fig, self.ax = plt.subplots(2, 1, figsize=[8, 8])\n",
    "\n",
    "        # Making the sample index\n",
    "        self.n = np.arange(len(self.audio))\n",
    "\n",
    "        # Plotting the waveform\n",
    "        self.line0, = self.ax[0].plot(self.n, self.audio) #, 'o', markerfacecolor='orange')\n",
    "        self.line1, = self.ax[1].plot(self.f, self.X_mag) #, 'o', markerfacecolor='orange')\n",
    "\n",
    "        # Setting the axes \n",
    "        self.ax[0].set_xlabel('Time ($n$)')\n",
    "        self.ax[0].set_ylabel('Amplitude')\n",
    "        self.ax[0].set_xlim([0,self.n[-1]])\n",
    "        self.ax[0].set_ylim([-1,1])\n",
    "        self.ax[0].grid()\n",
    "\n",
    "        self.ax[1].set_xlabel('Frequency (Hz)')\n",
    "        self.ax[1].set_ylabel('Magnitude (dB)')\n",
    "        self.ax[1].set_xlim([0, self.N//2-1])\n",
    "        self.ax[1].set_ylim([-40,60])\n",
    "        self.ax[1].grid()\n",
    "        \n",
    "        self.interval = 200\n",
    "        self.animation = FuncAnimation(self.fig, self.update, frames = np.arange(0,400), interval=self.interval)\n",
    "        self.th = Thread(target=self.thread_f, daemon=True)\n",
    "        self._stop = False\n",
    "        self.th.start()\n",
    "        \n",
    "\n",
    "\n",
    "    def update(self,frame):\n",
    "        # Updating the graph with any new data\n",
    "        self.line0.set_data(self.n, self.audio)\n",
    "        self.line1.set_data(self.f, self.X_mag)\n",
    "        \n",
    "        self.ax[0].set_xlim([0,np.max(self.n)])\n",
    "        self.ax[0].set_ylim([-1,1])\n",
    "        \n",
    "        \n",
    "        #self.ax[1].set_ylim([0, np.max(self.X_mag)*1.1])\n",
    "        \n",
    "        return self.line0\n",
    "\n",
    "\n",
    "    def show(self):\n",
    "        plt.show()\n",
    "\n",
    "    def stop(self):\n",
    "        self._stop =True\n",
    "        time.sleep(0.5) \n",
    "        self.th._stop()\n",
    "        self.animation.pause()\n",
    "\n",
    "    def thread_f(self):\n",
    "        n = 0\n",
    "        while n<400:\n",
    "            if self._stop:\n",
    "                break    \n",
    "            self.audio, self.fs = record(self.interval)\n",
    "            self.n = np.arange(len(self.audio))\n",
    "            self.X_mag, self.f = process(self.audio, self.N, self.fs)\n",
    "            n += 1\n",
    "            time.sleep(self.interval/1000)  \n",
    "        \n",
    "          \n"
   ]
  },
  {
   "cell_type": "markdown",
   "id": "6a7d6e48-1677-47ce-8d98-498e193f9d25",
   "metadata": {},
   "source": [
    "### The lines below will start the analysis."
   ]
  },
  {
   "cell_type": "code",
   "execution_count": null,
   "id": "80a0d813",
   "metadata": {},
   "outputs": [],
   "source": [
    "#recorder.recording = True\n",
    "try: \n",
    "    g = LiveGraph()\n",
    "    g.show()\n",
    "except RuntimeError:\n",
    "    try: \n",
    "        time.sleep(0.4)\n",
    "        g = LiveGraph()\n",
    "        g.show()\n",
    "    except RuntimeError:\n",
    "        print(\"Try again  \")"
   ]
  },
  {
   "cell_type": "markdown",
   "id": "84848bb1-9d67-4f4b-9ddb-27063cf16582",
   "metadata": {},
   "source": [
    "### Run the lines below to stop everything"
   ]
  },
  {
   "cell_type": "code",
   "execution_count": null,
   "id": "6217cc81-e4ee-4f46-9068-1368907ebc32",
   "metadata": {},
   "outputs": [],
   "source": [
    "g.stop()\n",
    "g.animation.pause"
   ]
  },
  {
   "cell_type": "code",
   "execution_count": null,
   "id": "fd4bf6af-f7ec-492e-ba12-2839db889706",
   "metadata": {},
   "outputs": [],
   "source": []
  }
 ],
 "metadata": {
  "jupytext": {
   "cell_metadata_filter": "-all",
   "main_language": "python",
   "notebook_metadata_filter": "-all"
  },
  "kernelspec": {
   "display_name": "Python 3 (ipykernel)",
   "language": "python",
   "name": "python3"
  },
  "language_info": {
   "codemirror_mode": {
    "name": "ipython",
    "version": 3
   },
   "file_extension": ".py",
   "mimetype": "text/x-python",
   "name": "python",
   "nbconvert_exporter": "python",
   "pygments_lexer": "ipython3"
  }
 },
 "nbformat": 4,
 "nbformat_minor": 5
}

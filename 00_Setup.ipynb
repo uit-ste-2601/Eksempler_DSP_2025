{
 "cells": [
  {
   "cell_type": "markdown",
   "id": "ef565c56-8f82-4fd5-b21c-1d72438a119b",
   "metadata": {},
   "source": [
    "# These lines will install what is needed to run the codes"
   ]
  },
  {
   "cell_type": "code",
   "execution_count": null,
   "id": "0ad403eb-8d77-4500-b679-ec090ed74832",
   "metadata": {},
   "outputs": [],
   "source": [
    "%pip install --user matplotlib scipy numpy IPython ipywidgets ipywebrtc ipympl nodejs jupyterlab-widgets"
   ]
  },
  {
   "cell_type": "code",
   "execution_count": null,
   "id": "f41f7dea-0d36-470c-9649-569cab502808",
   "metadata": {},
   "outputs": [],
   "source": []
  }
 ],
 "metadata": {
  "kernelspec": {
   "display_name": "Python 3 (ipykernel)",
   "language": "python",
   "name": "python3"
  },
  "language_info": {
   "codemirror_mode": {
    "name": "ipython",
    "version": 3
   },
   "file_extension": ".py",
   "mimetype": "text/x-python",
   "name": "python",
   "nbconvert_exporter": "python",
   "pygments_lexer": "ipython3"
  }
 },
 "nbformat": 4,
 "nbformat_minor": 5
}

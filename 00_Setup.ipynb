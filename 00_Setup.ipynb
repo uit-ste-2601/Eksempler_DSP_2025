{
 "cells": [
  {
   "cell_type": "markdown",
   "id": "3438b868",
   "metadata": {},
   "source": [
    "## These lines will install what is needed to run the codes "
   ]
  },
  {
   "cell_type": "code",
   "execution_count": null,
   "id": "f5006464",
   "metadata": {},
   "outputs": [],
   "source": [
    "%pip install --user matplotlib scipy numpy IPython ipywidgets ipywebrtc ipympl nodejs jupyterlab-widgets av ffmpeg"
   ]
  },
  {
   "cell_type": "markdown",
   "id": "d14e3f02",
   "metadata": {},
   "source": [
    "\n"
   ]
  }
 ],
 "metadata": {
  "jupytext": {
   "cell_metadata_filter": "-all",
   "main_language": "python",
   "notebook_metadata_filter": "-all"
  },
  "kernelspec": {
   "display_name": "Python 3 (ipykernel)",
   "language": "python",
   "name": "python3"
  },
  "language_info": {
   "codemirror_mode": {
    "name": "ipython",
    "version": 3
   },
   "file_extension": ".py",
   "mimetype": "text/x-python",
   "name": "python",
   "nbconvert_exporter": "python",
   "pygments_lexer": "ipython3"
  }
 },
 "nbformat": 4,
 "nbformat_minor": 5
}

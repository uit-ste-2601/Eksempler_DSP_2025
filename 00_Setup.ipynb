{
 "cells": [
  {
   "cell_type": "markdown",
   "id": "3438b868",
   "metadata": {},
   "source": [
    "## These lines will install what is needed to run the codes "
   ]
  },
  {
   "cell_type": "code",
   "execution_count": null,
   "id": "f5006464",
   "metadata": {},
   "outputs": [],
   "source": [
    "%pip install --user matplotlib scipy numpy IPython ipywidgets ipywebrtc ipympl nodejs jupyterlab-widgets"
   ]
  },
  {
   "cell_type": "markdown",
   "id": "d14e3f02",
   "metadata": {},
   "source": []
  }
 ],
 "metadata": {
  "jupytext": {
   "cell_metadata_filter": "-all",
   "main_language": "python",
   "notebook_metadata_filter": "-all"
  }
 },
 "nbformat": 4,
 "nbformat_minor": 5
}
